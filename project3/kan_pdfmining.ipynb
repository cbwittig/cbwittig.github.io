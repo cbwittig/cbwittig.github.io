{
 "cells": [
  {
   "cell_type": "code",
   "execution_count": 2,
   "metadata": {
    "scrolled": true
   },
   "outputs": [
    {
     "name": "stdout",
     "output_type": "stream",
     "text": [
      "By JOHN S. RICHARDS A.L.A. Reorganization and College and Reference Libraries Mr. Richards, executive assistant, Uni-versity of Washington Library, Seattle, was the Pacific Northwest Library Asso-ciation s representative on the A.L.A. Council when A.L.A. reorganization was discussed at the midwinter conference last December. THE COLLEGE or university library of 1940 is an entirely different institu-tion from its prototype of the last century. The libraries of Harvard and Yale have increased in size about seven times since 1900, while the libraries of many of the state universities have come into existence in the last twenty-five or thirty years. The concentration of large book stocks, the growth of huge student bodies, and the development of new teaching methods have produced a host of problems for the large college, university, and reference li-brary unknown before the turn of the century. These new problems have too often been handled through expediency growing out of the local situation, and as a result there is the greatest diversity among research institutions in the organization and ad-ministration of the library. For years public libraries have insisted that $1 per capita was the minimum with which ade-quate service could be given their clien-tele. However inadequate this figure may be, the constant reiteration of it as a minimum standard has had a distinct in-fluence in maintaining library budgets for the public library. College and reference libraries, despite their efforts, have failed to demonstrate their right to any definite percentage of the institutional budget and there is the widest variation in support. The Association of College and Refer-ence Libraries, in its new relation to A.L.A., should insure a professional or-ganization which can agree on objectives and then provide machinery for their realization. For the first time college and reference librarians will have a really democratic organization with a degree of specialization for different types of insti-tutions, the whole organization closely knit so as to forward the work of each. This new organization should once and for all answer the plaint \"What has the A.L.A. to offer me?\" As a member of one of the subsections of A.C.R.L., the A.L.A. can offer the youngest junior as-sistant in the largest library, participation in the development of the program of the type of library in which he is working. Twenty per cent of the dues he pays to A.L.A. will be allotted to A.C.R.L. to carry on this work. A new periodical, College and Research Libraries, is availa-ble to present his views on college and research library problems. These facilities for professional develop-ment are the more important because the \f",
      "professional status of college and univer-sity librarians has often been questioned. Whether or not we deserve the title \"hod-carrier\" or \"obstacle\" to scholars and scholarship, we have often enough failed to recognize our partnership in the busi-ness of academic and scholarly life. This failure may have come about in large measure because of the lack of specializa-tion in our professional organizations. Less than two hundred librarians belonged to the College and Reference Section of the A.L.A. at the time of its reorganiza-tion. This lack of interest is probably not to be duplicated in any other profes-sional group. The problems of the college and research library had become sharply differentiated from those of the public li-brary, but the rank and file of the pro-fession showed no awareness of this in their professional affiliations. It is sig-nificant that the membership in A.C.R.L. has shown a large increase since its re-organization, though it still includes only a fraction of the librarians in this field. In the by-laws of the A.C.R.L. the ob-ject of the association is stated to be: To encourage the maintenance and im-provement of library service to students, faculty and research workers, and of refer-ence service to all library patrons. As a means toward attainment of this end, it shall be the policy of the association to en-courage (a) a program of activities di-rected by the group, (b) advancement of standards of library service in college, uni-versity and reference libraries, and (c) the continued professional growth of those en-gaged in the work of these libraries. Since the A.C.R.L. will be given com-plete autonomy over and responsibility for the conduct of its own affairs, the program foreshadowed above can be translated into action in the immediate future. For several months an A.C.R.L. com-mittee on budgets, compensation and schemes of service for libraries connected with universities, colleges, and teacher-training institutions has been at work as a subcommittee of the A.L.A. Board on Salaries, Staff, and Tenure. As this work progresses, librarians in the various types of educational institutions will have an opportunity to check and help revise the schemes so that they may be of greatest use. This is an example of the type of cooperation now possible between the A.L.A. and its various divisions. With these increased lines of communi-cation between A.L.A. and A.C.R.L. and the free interchange of ideas between the five subsections of A.C.R.L., provision is made for a healthy growth of the profes-sion and the self development of the in-dividual librarian. The last sentence might well have read, \"provision is made for a healthy growth of the profession through the self develop-ment of the individual librarian,\" for no matter how able and scholarly our lead-ers, our libraries can never take their proper place until they are manned from the bottom up with a devoted personnel infused with a philosophy of the profes-sion. Such a philosophy only can insure a professional standing for the group which will withstand attack from without and furnish the necessary stimulus and co-hesion from within. Active participation in A.L.A. through membership in A.C.R.L. becomes a defi-nite challenge to every college and refer-ence librarian. A.L.A. reorganization has provided for greater differentiation be-tween library services. College and ref-erence librarians have both an opportunity and an obligation to develop their arm of this service. Active membership in the A.C.R.L. is the first step. 4 COLLEGE AND RESEARCH LIBRARIES \f",
      "\n"
     ]
    }
   ],
   "source": [
    "import io\n",
    "import pandas as pd \n",
    "import csv\n",
    "from pdfminer.converter import TextConverter\n",
    "from pdfminer.pdfinterp import PDFPageInterpreter\n",
    "from pdfminer.pdfinterp import PDFResourceManager\n",
    "from pdfminer.pdfpage import PDFPage\n",
    " \n",
    "def extract_text_from_pdf(pdf_path):\n",
    "    resource_manager = PDFResourceManager()\n",
    "    fake_file_handle = io.StringIO()\n",
    "    converter = TextConverter(resource_manager, fake_file_handle)\n",
    "    page_interpreter = PDFPageInterpreter(resource_manager, converter)\n",
    " \n",
    "    with open(pdf_path, 'rb') as fh:\n",
    "        for page in PDFPage.get_pages(fh, \n",
    "                                      caching=True,\n",
    "                                      check_extractable=True):\n",
    "            page_interpreter.process_page(page)\n",
    " \n",
    "        text = fake_file_handle.getvalue()\n",
    " \n",
    "    # close open handles\n",
    "    converter.close()\n",
    "    fake_file_handle.close()\n",
    " \n",
    "    if text:\n",
    "        return text\n",
    " \n",
    "if __name__ == '__main__':\n",
    "    file_text=(extract_text_from_pdf('9828-13029-1-PB.pdf'))\n",
    "    print(file_text)\n",
    "    \n",
    "def ngrams(input, n):\n",
    "    input = input.split(' ')\n",
    "    output = []\n",
    "    for i in range(len(input)-n+1):\n",
    "        output.append(input[i:i+n])\n",
    "    return output\n",
    "bigram = ngrams(file_text, 2)\n",
    "\n",
    "df=pd.DataFrame(bigram, columns =['T1', 'T2'])\n",
    "df2=df.groupby([\"T1\", \"T2\"]).size().reset_index(name='count')\n",
    "df2.head()\n",
    "df2.to_csv(r'9828-13029-1-PB.csv') "
   ]
  }
 ],
 "metadata": {
  "kernelspec": {
   "display_name": "Python 3",
   "language": "python",
   "name": "python3"
  },
  "language_info": {
   "codemirror_mode": {
    "name": "ipython",
    "version": 3
   },
   "file_extension": ".py",
   "mimetype": "text/x-python",
   "name": "python",
   "nbconvert_exporter": "python",
   "pygments_lexer": "ipython3",
   "version": "3.7.3"
  },
  "toc": {
   "base_numbering": 1,
   "nav_menu": {},
   "number_sections": true,
   "sideBar": true,
   "skip_h1_title": false,
   "title_cell": "Table of Contents",
   "title_sidebar": "Contents",
   "toc_cell": false,
   "toc_position": {},
   "toc_section_display": true,
   "toc_window_display": false
  }
 },
 "nbformat": 4,
 "nbformat_minor": 2
}
