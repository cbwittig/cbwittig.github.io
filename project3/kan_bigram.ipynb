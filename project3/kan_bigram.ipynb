{
 "cells": [
  {
   "cell_type": "markdown",
   "metadata": {},
   "source": [
    "# Importing dependencies"
   ]
  },
  {
   "cell_type": "code",
   "execution_count": null,
   "metadata": {},
   "outputs": [],
   "source": [
    "import pandas as pd\n",
    "import os\n",
    "from bs4 import BeautifulSoup as bs\n",
    "import re\n",
    "import glob\n"
   ]
  },
  {
   "cell_type": "raw",
   "metadata": {},
   "source": [
    "# Opening each file, parsing, make lower case and remove characters, define the bigrams, formed dataframes, and export as csv files. Code run on all files in OCR file."
   ]
  },
  {
   "cell_type": "markdown",
   "metadata": {},
   "source": [
    "## Parsing html.txt files"
   ]
  },
  {
   "cell_type": "code",
   "execution_count": null,
   "metadata": {},
   "outputs": [],
   "source": [
    "articles = glob.glob('OCR/*.txt')\n",
    "d = list()\n",
    "outputdir=\"\"\n",
    "for article_file in articles:\n",
    "    with open(article_file, encoding='utf8') as infile:\n",
    "        article = os.path.basename(article_file)\n",
    "        html_doc = bs(infile, \"html.parser\")\n",
    "        paragraphs=html_doc.find_all('p')\n",
    "        file_text = ''\n",
    "    for para in paragraphs:\n",
    "            file_text += para.text \n",
    "    file_text = file_text.lower()\n",
    "    file_text = re.sub(r'[^A-Za-z. ]', '', file_text)\n",
    "    def ngrams(input, n):\n",
    "            input = input.split(' ')\n",
    "            output = []\n",
    "            for i in range(len(input)-n+1):\n",
    "                output.append(input[i:i+n])\n",
    "            return output\n",
    "    bigram = ngrams(file_text, 2)\n",
    "    df=pd.DataFrame(bigram, columns =['T1', 'T2'])\n",
    "    df2=df.groupby([\"T1\", \"T2\"]).size().reset_index(name='count')\n",
    "    file_output = open(os.path.join(outputdir + article_file +\".csv\"), 'w')\n",
    "\n",
    "    df2.to_csv(file_output)\n",
    "\n",
    "    file_output.close()\n",
    "    infile.close()    \n",
    "\n"
   ]
  }
 ],
 "metadata": {
  "kernelspec": {
   "display_name": "Python 3",
   "language": "python",
   "name": "python3"
  },
  "language_info": {
   "codemirror_mode": {
    "name": "ipython",
    "version": 3
   },
   "file_extension": ".py",
   "mimetype": "text/x-python",
   "name": "python",
   "nbconvert_exporter": "python",
   "pygments_lexer": "ipython3",
   "version": "3.7.3"
  },
  "toc": {
   "base_numbering": 1,
   "nav_menu": {},
   "number_sections": true,
   "sideBar": true,
   "skip_h1_title": false,
   "title_cell": "Table of Contents",
   "title_sidebar": "Contents",
   "toc_cell": false,
   "toc_position": {
    "height": "calc(100% - 180px)",
    "left": "10px",
    "top": "150px",
    "width": "255.458px"
   },
   "toc_section_display": true,
   "toc_window_display": false
  }
 },
 "nbformat": 4,
 "nbformat_minor": 2
}
