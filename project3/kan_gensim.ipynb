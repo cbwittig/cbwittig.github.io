{
 "cells": [
  {
   "cell_type": "markdown",
   "metadata": {},
   "source": [
    "# Importing dependencies"
   ]
  },
  {
   "cell_type": "code",
   "execution_count": 24,
   "metadata": {},
   "outputs": [],
   "source": [
    "import pandas as pd\n",
    "import os\n",
    "import smart_open\n",
    "from bs4 import BeautifulSoup as bs\n",
    "import nltk\n",
    "import re\n",
    "import html2text\n",
    "import gensim\n",
    "from gensim import corpora\n",
    "from pprint import pprint\n",
    "# from gensim.utils import simple_preprocess\n",
    "from smart_open import open\n",
    "from gensim.models import Phrases, Word2Vec\n",
    "from gensim import models\n",
    "import numpy as np\n",
    "from gensim.parsing.preprocessing import strip_tags\n",
    "from nltk.corpus import stopwords\n",
    "from gensim.models import LdaModel, LdaMulticore\n",
    "# import gensim.downloader as api\n",
    "from gensim.utils import simple_preprocess, lemmatize\n",
    "import logging"
   ]
  },
  {
   "cell_type": "markdown",
   "metadata": {},
   "source": [
    "# Using python and nltk"
   ]
  },
  {
   "cell_type": "markdown",
   "metadata": {},
   "source": [
    "## Parsing html.txt files"
   ]
  },
  {
   "cell_type": "code",
   "execution_count": 25,
   "metadata": {},
   "outputs": [],
   "source": [
    "with open(\"journal-article-10.1086_380851.html\", encoding='utf8') as infile:\n",
    "    html_doc = bs(infile, \"html.parser\")\n",
    "# html_doc"
   ]
  },
  {
   "cell_type": "markdown",
   "metadata": {},
   "source": [
    "## Selecting \"p\" tags and extracting all text then converting to lower case."
   ]
  },
  {
   "cell_type": "code",
   "execution_count": 26,
   "metadata": {
    "scrolled": true
   },
   "outputs": [],
   "source": [
    "paragraphs=html_doc.find_all('p')\n",
    "file_text = ''\n",
    "for para in paragraphs:\n",
    "    file_text += para.text \n",
    "\n",
    "# print (para.text)    \n",
    "file_text = file_text.lower()\n",
    "# paragraphs\n",
    "# file_text"
   ]
  },
  {
   "cell_type": "markdown",
   "metadata": {},
   "source": [
    "## Removing everything except letters, periods, and spaces."
   ]
  },
  {
   "cell_type": "code",
   "execution_count": 27,
   "metadata": {},
   "outputs": [],
   "source": [
    "file_text = re.sub(r'[^A-Za-z. ]', '', file_text)\n",
    "# file_text"
   ]
  },
  {
   "cell_type": "code",
   "execution_count": 28,
   "metadata": {},
   "outputs": [
    {
     "data": {
      "text/plain": [
       "str"
      ]
     },
     "execution_count": 28,
     "metadata": {},
     "output_type": "execute_result"
    }
   ],
   "source": [
    "type(file_text)"
   ]
  },
  {
   "cell_type": "markdown",
   "metadata": {},
   "source": [
    "# Analyzing with Gensim"
   ]
  },
  {
   "cell_type": "markdown",
   "metadata": {},
   "source": [
    "## Creating a dictionary ***This can be removed."
   ]
  },
  {
   "cell_type": "code",
   "execution_count": 29,
   "metadata": {},
   "outputs": [
    {
     "name": "stderr",
     "output_type": "stream",
     "text": [
      "2019-10-07 18:51:28,029 : INFO : built Dictionary(0 unique tokens: []) from 0 documents (total 0 corpus positions)\n"
     ]
    },
    {
     "name": "stdout",
     "output_type": "stream",
     "text": [
      "Dictionary(0 unique tokens: [])\n"
     ]
    }
   ],
   "source": [
    "dictionary = corpora.Dictionary(simple_preprocess(line, deacc=True) for line in open('journal-article-10.1086_380851.txt', encoding='utf-8'))\n",
    "# strip_tags(dictionary)\n",
    "print(dictionary)"
   ]
  },
  {
   "cell_type": "code",
   "execution_count": 30,
   "metadata": {},
   "outputs": [],
   "source": [
    "# dictionary.token2id"
   ]
  },
  {
   "cell_type": "markdown",
   "metadata": {},
   "source": [
    "## Generating bag of words corpus"
   ]
  },
  {
   "cell_type": "markdown",
   "metadata": {},
   "source": [
    "The __iter__() from BoWCorpus reads a line from the file, process it to a list of words using simple_preprocess() and pass that to the dictionary.doc2bow().\n",
    "\n",
    "The smart_open() from smart_open package because, it lets you open and read large files line-by-line\n"
   ]
  },
  {
   "cell_type": "code",
   "execution_count": 31,
   "metadata": {},
   "outputs": [],
   "source": [
    "# nltk.download('stopwords')  # run once\n",
    "\n",
    "class BoWCorpus(object):\n",
    "    def __init__(self, path, dictionary):\n",
    "        self.filepath = path\n",
    "        self.dictionary = dictionary\n",
    "\n",
    "    def __iter__(self):\n",
    "        global mydict \n",
    "        for line in open(self.filepath, encoding='latin'):\n",
    "            # tokenize\n",
    "            tokenized_list = simple_preprocess(line, deacc=True)\n",
    "\n",
    "            # create bag of words\n",
    "            bow = self.dictionary.doc2bow(tokenized_list, allow_update=True)\n",
    "\n",
    "            # update the source dictionary (OPTIONAL)\n",
    "            mydict.merge_with(self.dictionary)\n",
    "\n",
    "            # lazy return the BoW\n",
    "            yield bow\n",
    "\n",
    "\n",
    "# Create the Dictionary\n",
    "mydict = corpora.Dictionary()\n",
    "\n",
    "# Create the Corpus\n",
    "bow_corpus = BoWCorpus('journal-article-10.1086_380851.txt', dictionary=mydict)  \n",
    "\n",
    "# Print the token_id and count for each line.\n",
    "for line in bow_corpus:\n",
    "    print(line)"
   ]
  },
  {
   "cell_type": "code",
   "execution_count": 32,
   "metadata": {},
   "outputs": [
    {
     "name": "stdout",
     "output_type": "stream",
     "text": [
      "Dictionary(0 unique tokens: [])\n"
     ]
    }
   ],
   "source": [
    "print(mydict)"
   ]
  },
  {
   "cell_type": "markdown",
   "metadata": {},
   "source": [
    "## Saving and loading dictionary and corpus"
   ]
  },
  {
   "cell_type": "code",
   "execution_count": 33,
   "metadata": {},
   "outputs": [],
   "source": [
    "# # Save the Dict and Corpus\n",
    "# mydict.save('mydict.dict') \n",
    "# corpora.MmCorpus.serialize('bow_corpus.mm', bow_corpus)  "
   ]
  },
  {
   "cell_type": "code",
   "execution_count": 34,
   "metadata": {},
   "outputs": [],
   "source": [
    "# # Load them back\n",
    "# loaded_dict = corpora.Dictionary.load('mydict.dict')\n",
    "\n",
    "# corpus = corpora.MmCorpus('bow_corpus.mm')\n",
    "# # for line in corpus:\n",
    "# #     print(line)"
   ]
  },
  {
   "cell_type": "markdown",
   "metadata": {},
   "source": [
    "## Creates a TFIDF matrix(corpus)"
   ]
  },
  {
   "cell_type": "code",
   "execution_count": 35,
   "metadata": {},
   "outputs": [],
   "source": [
    "# Show the Word Weights in Corpus\n",
    "for doc in bow_corpus:\n",
    "    print([[mydict[id], freq] for id, freq in doc])"
   ]
  },
  {
   "cell_type": "code",
   "execution_count": 36,
   "metadata": {},
   "outputs": [
    {
     "name": "stderr",
     "output_type": "stream",
     "text": [
      "2019-10-07 18:51:28,087 : INFO : collecting document frequencies\n",
      "2019-10-07 18:51:28,090 : INFO : calculating IDF weights for 0 documents and 0 features (0 matrix non-zeros)\n"
     ]
    }
   ],
   "source": [
    "# Create the TF-IDF model\n",
    "tfidf = models.TfidfModel(bow_corpus, smartirs='ntc')"
   ]
  },
  {
   "cell_type": "code",
   "execution_count": 37,
   "metadata": {},
   "outputs": [],
   "source": [
    "# Show the TF-IDF weights\n",
    "for doc in tfidf[bow_corpus]:\n",
    "    print([[mydict[id], np.around(freq, decimals=2)] for id, freq in doc])"
   ]
  },
  {
   "cell_type": "markdown",
   "metadata": {},
   "source": [
    "## Creating bigram and trigram using Phraser models."
   ]
  },
  {
   "cell_type": "code",
   "execution_count": 38,
   "metadata": {},
   "outputs": [
    {
     "name": "stdout",
     "output_type": "stream",
     "text": [
      "[['they', 'call', 'to', 'us', 'from', 'newsstands', 'and', 'racks', 'by', 'grocery', 'store', 'checkouts', 'the', 'bright', 'colors', 'on', 'their', 'covers', 'competing', 'with', 'the', 'candy', 'displays', 'teen', 'magazines', 'are', 'the', 'literary', 'sweet', 'that', 'satisfies', 'the', 'craving', 'for', 'normalcy.', 'the', 'covers', 'of', 'the', 'latest', 'teen', 'magazines', 'aimed', 'at', 'adolescent', 'girls', 'promise', 'readers', 'dates', 'beauty', 'and', 'success', 'and', 'feature', 'celebrity', 'role', 'models', 'smiling', 'beneath', 'the', 'mastheads.', 'the', 'experience', 'of', 'reading', 'the', 'glossy', 'booklets', 'seems', 'ultimately', 'depressing', 'compared', 'to', 'the', 'rich', 'superstar', 'singer', 'the', 'skinniest', 'model', 'even', 'the', 'glamorous', 'writers', 'the', 'reader', 'would', 'require', 'an', 'identity', 'facelift', 'to', 'compete', 'with', 'these', 'supposed', 'peers.', 'yet', 'teen', 'magazines', 'continue', 'to', 'flourish', 'as', 'in', 'the', 'last', 'five', 'years', 'traditionally', 'womens', 'magazines', 'have', 'released', 'little', 'sister', 'editions', 'of', 'their', 'titles', 'including', 'the', 'bestselling', 'cosmogirl', 'in', 'teentargeted', 'magazines', 'seventeen', 'ym', 'and', 'cosmogirl', 'were', 'among', 'abcs', 'top', 'circulating', 'magazines', 'with', 'average', 'circulations', 'of', 'and', 'respectively', 'mpa', 'resources.', 'amid', 'the', 'arguments', 'against', 'these', 'systematic', 'monthly', 'selfesteem', 'deflators', 'readership', 'grows.', 'what', 'needs', 'are', 'being', 'fulfilled', 'by', 'these', 'monthly', 'publications', 'and', 'what', 'makes', 'them', 'such', 'popular', 'reading', 'materialmagazines', 'created', 'for', 'teenage', 'girls', 'are', 'effective', 'because', 'of', 'their', 'developmental', 'appropriateness', 'the', 'relationship', 'developed', 'between', 'magazine', 'and', 'reader', 'represents', 'a', 'distinct', 'feminine', 'space', 'while', 'the', 'demands', 'of', 'the', 'text', 'itself', 'are', 'appropriate', 'to', 'the', 'analytic', 'ability', 'of', 'the', 'adolescent.', 'the', 'inclusion', 'of', 'the', 'confessional', 'embarrassing', 'story', 'column', 'that', 'has', 'become', 'the', 'mainstay', 'of', 'the', 'teen', 'magazine', 'is', 'a', 'unique', 'example', 'of', 'the', 'sympathetic', 'space', 'created', 'between', 'reader', 'and', 'text', 'by', 'the', 'magazines.', 'the', 'embarrassing', 'stories', 'content', 'of', 'these', 'magazines', 'is', 'purposefully', 'constructed', 'not', 'only', 'to', 'entertain', 'but', 'also', 'to', 'offer', 'behavioral', 'guidance', 'the', 'editors', 'of', 'these', 'columns', 'rely', 'on', 'specific', 'hypotheses', 'regarding', 'adolescent', 'literacy', 'and', 'development', 'to', 'maintain', 'this', 'dual', 'function.', 'by', 'examining', 'theories', 'of', 'adolescent', 'identity', 'development', 'and', 'the', 'implied', 'effects', 'of', 'environment', 'on', 'selfesteem', 'building', 'we', 'can', 'investigate', 'the', 'influence', 'of', 'teen', 'magazines', 'and', 'their', 'embarrassing', 'stories', 'on', 'adolescent', 'girls', 'and', 'theorizethrough', 'the', 'use', 'of', 'reader', 'responsethe', 'full', 'impact', 'of', 'these', 'texts.we', 'may', 'look', 'to', 'the', 'discipline', 'of', 'developmental', 'psychology', 'to', 'support', 'our', 'theory', 'of', 'the', 'developmental', 'appropriateness', 'of', 'teen', 'magazines.', 'psychologist', 'erik', 'erikson', 'examined', 'the', 'effects', 'of', 'the', 'environment', 'on', 'child', 'development', 'and', 'concluded', 'that', 'in', 'adolescence', 'identity', 'development', 'is', 'relative', 'to', 'gender.', 'freudian', 'psychology', 'pronounced', 'this', 'presumption', 'as', 'well', 'linking', 'identity', 'and', 'selfconcept', 'to', 'recognition', 'of', 'gender', 'however', 'freuds', 'identity', 'construction', 'theory', 'is', 'centered', 'on', 'one', 'symbol.', 'to', 'freudian', 'psychologists', 'identity', 'is', 'created', 'on', 'the', 'basis', 'of', 'genitalia', 'one', 'is', 'the', 'possessor', 'of', 'a', 'phallus', 'or', 'one', 'is', 'not.', 'on', 'the', 'contrary', 'erikson', 'theorizes', 'that', 'identity', 'development', 'begins', 'with', 'the', 'recognition', 'of', 'ones', 'gender', 'as', 'unique', 'and', 'not', 'necessarily', 'relative', 'to', 'its', 'opposite.', 'erikson', 'has', 'written', 'it', 'is', 'never', 'enough', 'then', 'to', 'characterize', 'the', 'sexes', 'by', 'the', 'way', 'they', 'differ', 'from', 'each', 'other.', 'rather', 'each', 'sex', 'is', 'characterized', 'by', 'a', 'uniqueness', 'which', 'includes', 'but', 'is', 'not', 'summed', 'up', 'by', 'its', 'difference', 'from', 'the', 'other', 'sex', '.', 'thus', 'according', 'to', 'erikson', 'identity', 'begins', 'in', 'either', 'sex', 'with', 'a', 'positive', 'construction', 'not', 'a', 'relative', 'or', 'negative', 'association', 'with', 'a', 'power', 'figure.eriksons', 'theory', 'of', 'the', 'uniqueness', 'of', 'gendered', 'experience', 'was', 'developed', 'after', 'his', 'observation', 'of', 'children', 'at', 'play', 'and', 'later', 'by', 'an', 'iteration', 'of', 'tests', 'of', 'play', 'construction.', 'as', 'erikson', 'observed', 'children', 'playing', 'with', 'a', 'prescribed', 'set', 'of', 'constructing', 'objects', 'he', 'noticed', 'a', 'difference', 'in', 'the', 'theme', 'of', 'constructs', 'based', 'on', 'sex.', 'in', 'evaluating', 'a', 'childs', 'play', 'construction', 'i', 'had', 'to', 'take', 'into', 'consideration', 'the', 'fact', 'that', 'girls', 'and', 'boys', 'used', 'space', 'differently', 'and', 'that', 'certain', 'configurations', 'occurred', 'strikingly', 'often', 'in', 'the', 'constructions', 'of', 'one', 'sex', 'and', 'rarely', 'in', 'those', 'of', 'the', 'other', 'noted', 'erikson', 'p.', '.', 'under', 'eriksons', 'observation', 'boys', 'had', 'the', 'tendency', 'to', 'build', 'towers', 'and', 'tall', 'buildings', 'and', 'then', 'destroy', 'these', 'scenes', 'in', 'elaborate', 'action', 'sequences.', 'girls', 'constructions', 'however', 'were', 'of', 'interiors', 'and', 'included', 'elaborate', 'attention', 'to', 'the', 'detail', 'of', 'the', 'entrance', 'of', 'these', 'buildings.', 'each', 'genders', 'construction', 'seemed', 'categorically', 'symbolic', 'of', 'sexual', 'identity', 'though', 'neither', 'employed', 'the', 'same', 'language', 'of', 'symbol.', 'that', 'is', 'instead', 'of', 'constructing', 'an', 'elaborate', 'shrine', 'to', 'the', 'phallus', 'as', 'freud', 'may', 'have', 'expected', 'girls', 'celebrated', 'the', 'womb.', 'these', 'observations', 'led', 'erikson', 'to', 'believe', 'that', 'the', 'recognition', 'of', 'sexual', 'identity', 'is', 'not', 'relative', 'but', 'singular.although', 'erikson', 'recognizes', 'the', 'female', 'as', 'unique', 'and', 'her', 'experience', 'as', 'individuated', 'he', 'approaches', 'gendered', 'societal', 'roles', 'with', 'fatalism.', 'woman', 'in', 'many', 'ways', 'has', 'kept', 'her', 'place', 'within', 'the', 'typologies', 'and', 'cosmologies', 'which', 'men', 'have', 'had', 'the', 'exclusive', 'opportunity', 'to', 'cultivate', 'and', 'to', 'idolize', 'writes', 'erikson', 'p.', '.', 'indeed', 'though', 'women', 'can', 'be', 'blamed', 'for', 'their', 'acceptance', 'of', 'the', 'gendered', 'status', 'quo', 'erikson', 'does', 'admit', 'to', 'a', 'masculine', 'influence', 'in', 'the', 'preservation', 'of', 'the', 'patriarchy', 'no', 'doubt', 'there', 'exists', 'among', 'men', 'an', 'honest', 'sense', 'of', 'wishing', 'to', 'save', 'a', 'sexual', 'polarity', 'and', 'an', 'essential', 'difference', 'which', 'they', 'fear', 'may', 'be', 'lost', 'in', 'too', 'much', 'sameness', 'p.', '.', 'with', 'these', 'statements', 'erikson', 'implies', 'a', 'certain', 'biologic', 'determinism', 'in', 'the', 'construction', 'of', 'sex', 'or', 'gender', 'roles.', 'this', 'determinism', 'is', 'exemplified', 'in', 'the', 'teen', 'magazine', 'itself', 'the', 'magazine', 'is', 'a', 'form', 'of', 'placeholding', 'within', 'eriksons', 'socalled', 'typologies', 'and', 'cosmologies.', 'while', 'many', 'magazines', 'aimed', 'at', 'teenage', 'girls', 'preach', 'girl', 'power', 'and', 'even', 'a', 'political', 'agency', 'of', 'sorts', 'that', 'the', 'magazines', 'notions', 'of', 'power', 'are', 'gendered', 'confirms', 'the', 'preservation', 'of', 'eriksons', 'sexual', 'polarity.', 'a', 'static', 'system', 'is', 'continually', 'recreated', 'as', 'new', 'generations', 'of', 'adolescents', 'come', 'of', 'age', 'and', 'accept', 'or', 'absorb', 'traditional', 'ideas', 'of', 'their', 'roles', 'within', 'a', 'capitalist', 'society.where', 'do', 'magazines', 'fit', 'in', 'this', 'relationship', 'of', 'maintenance', 'and', 'revolution', 'are', 'teenage', 'girls', 'like', 'communist', 'countries', 'in', 'need', 'of', 'democratization', 'are', 'magazines', 'for', 'girls', 'mediated', 'by', 'capital', 'and', 'directed', 'at', 'females', 'in', 'a', 'critical', 'stage', 'of', 'development', 'a', 'tool', 'to', 'maintain', 'the', 'patriarchy', 'joy', 'leman', 'in', 'a', 'criticism', 'of', 'womens', 'magazines', 'writes', 'of', 'the', 'monthlies', 'as', 'media', 'products', 'and', 'deems', 'them', 'part', 'of', 'an', 'ideological', 'apparatus', 'presenting', 'a', 'view', 'of', 'the', 'world', 'which', 'is', 'at', 'most', 'points', 'locked', 'into', 'the', 'economics', 'and', 'political', 'interests', 'of', 'the', 'capitalist', 'system', 'p.', '.', 'dawn', 'currie', 'echoes', 'this', 'point', 'in', 'her', 'study', 'of', 'teenage', 'girls', 'magazines', 'teenzine', 'messages', 'are', 'a', 'product', 'of', 'the', 'relations', 'among', 'various', 'economic', 'interests', 'that', 'include', 'editors', 'publishing', 'houses', 'and', 'advertising', 'agencies', 'and', 'their', 'clients', 'p.', '.', 'here', 'currie', 'identifies', 'girls', 'magazines', 'and', 'the', 'messages', 'within', 'them', 'as', 'products', 'of', 'a', 'greater', 'capitalist', 'mechanism.', 'if', 'we', 'view', 'capitalism', 'as', 'a', 'masculine', 'construction', 'in', 'which', 'women', 'cannot', 'assert', 'themselves', 'we', 'may', 'also', 'recognize', 'womens', 'magazines', 'as', 'an', 'evil', 'tool', 'of', 'this', 'system.', 'however', 'an', 'alternative', 'view', 'can', 'be', 'constructed', 'via', 'eriksons', 'theories', 'of', 'identity', 'development.', 'womens', 'and', 'girls', 'magazines', 'celebrate', 'the', 'feminine', 'inner', 'space', 'emphasized', 'in', 'the', 'girls', 'constructions', 'and', 'represent', 'a', 'forum', 'albeit', 'limited', 'by', 'advertising', 'for', 'issues', 'of', 'interest', 'to', 'females.', 'angela', 'mcrobbies', 'recent', 'work', 'concerning', 'womens', 'and', 'adolescent', 'girls', 'magazines', 'has', 'included', 'critical', 'remarks', 'regarding', 'the', 'discursive', 'tradition', 'that', 'would', 'focus', 'on', 'the', 'detrimental', 'read', 'nonfeminist', 'nature', 'of', 'these', 'publications.', 'mcrobbie', 'writes', 'there', 'remains', 'an', 'important', 'relation', 'between', 'feminism', 'and', 'the', 'world', 'of', 'girls', 'and', 'womens', 'magazines', 'the', 'new', 'intersections', 'between', 'them', 'need', 'to', 'be', 'examined', 'in', 'depth', 'p.', '.both', 'erikson', 'and', 'fellow', 'developmentalist', 'jean', 'piaget', 'recognize', 'the', 'power', 'of', 'the', 'peer', 'group', 'to', 'influence', 'identity', 'development', 'and', 'the', 'teen', 'magazine', 'as', 'a', 'guide', 'is', 'a', 'peer', 'group', 'itself.', 'piaget', 'claims', 'that', 'the', 'identification', 'with', 'a', 'microcosm', 'of', 'society', 'allows', 'an', 'individual', 'to', 'feel', 'anchored', 'in', 'the', 'world.', 'the', 'adolescent', 'claims', 'piaget', 'views', 'its', 'own', 'plans', 'and', 'activities', 'as', 'they', 'relate', 'to', 'an', 'idealized', 'social', 'group.', 'the', 'individual', 'thus', 'begins', 'to', 'think', 'of', 'itself', 'as', 'a', 'fullfledged', 'member', 'of', 'society', 'p.', '.', 'the', 'teen', 'magazine', 'with', 'its', 'images', 'of', 'corporeal', 'perfection', 'and', 'promises', 'of', 'social', 'success', 'can', 'be', 'seen', 'as', 'evidence', 'of', 'a', 'social', 'ideal', 'to', 'which', 'developing', 'teens', 'may', 'aspire.', 'selfdevelopment', 'is', 'referential', 'and', 'in', 'varying', 'ways', 'influenced', 'by', 'an', 'individuals', 'alignment', 'with', 'a', 'social', 'group.', 'such', 'identification', 'may', 'lead', 'an', 'adolescent', 'to', 'form', 'a', 'mirror', 'group', 'or', 'clique', 'of', 'her', 'own.', 'according', 'to', 'erikson', 'the', 'discomfort', 'of', 'adolescence', 'when', 'genital', 'puberty', 'floods', 'body', 'and', 'imagination', 'with', 'all', 'manner', 'of', 'impulses', 'is', 'assuaged', 'by', 'forming', 'cliques', 'and', 'stereotyping', 'themselves', 'p.', '.', 'elizabeth', 'heilman', 'echoing', 'erikson', 'in', 'claims', 'that', 'the', 'dominant', 'class', 'structure', 'is', 'additionally', 'reinforced', 'through', 'the', 'selfdetermined', 'groupings', 'of', 'adolescents', 'from', 'different', 'social', 'class', 'backgrounds', 'p.', '.', 'the', 'media', 'are', 'a', 'direct', 'source', 'for', 'images', 'of', 'social', 'groupings', 'as', 'teens', 'seek', 'refuge', 'in', 'a', 'socially', 'safe', 'category', 'teen', 'magazines', 'in', 'particular', 'offer', 'monthly', 'images', 'of', 'social', 'promise.the', 'use', 'of', 'language', 'particularly', 'the', 'cultivation', 'of', 'an', 'inclusive', 'narrative', 'voice', 'is', 'a', 'primary', 'method', 'employed', 'by', 'womens', 'and', 'girls', 'magazines', 'to', 'create', 'a', 'feminine', 'space.', 'many', 'girls', 'magazines', 'begin', 'with', 'a', 'letter', 'from', 'the', 'editor', 'the', 'intimate', 'tone', 'of', 'which', 'writes', 'leman', 'attempts', 'to', 'establish', 'some', 'kind', 'of', 'sisterly', 'relationship', 'between', 'magazine', 'and', 'reader', 'p.', '.', 'yms', 'monthly', 'letter', 'from', 'the', 'editor', 'is', 'wrapped', 'around', 'candid', 'snapshots', 'of', 'the', 'editor', 'herself', 'the', 'magazine', 'staff', 'and', 'sometimes', 'celebrities.', 'teen', 'magazines', 'editorial', 'letter', 'is', 'much', 'less', 'folksy', 'and', 'signed', 'by', 'the', 'teen', 'crew', 'while', 'cosmogirl', 'usually', 'features', 'a', 'closeup', 'of', 'editor', 'atoosa', 'rubenstein', 'and', 'invitations', 'to', 'contact', 'her', 'directly', 'via', 'email.', 'according', 'to', 'erikson', 'adolescent', 'attachment', 'to', 'these', 'glamorous', 'sisterly', 'role', 'models', 'is', 'not', 'uncommon.', 'in', 'fact', 'the', 'relationship', 'encouraged', 'between', 'magazine', 'and', 'reader', 'is', 'developmentally', 'significant.', 'as', 'adolescents', 'look', 'to', 'their', 'surroundings', 'to', 'mediate', 'identity', 'construction', 'their', 'willingness', 'to', 'put', 'their', 'trust', 'in', 'those', 'peers', 'and', 'leading', 'or', 'misleading', 'elders', 'who', 'will', 'give', 'imaginative', 'if', 'not', 'illusory', 'scope', 'to', 'their', 'aspirations', 'is', 'only', 'too', 'obvious', 'p.', '.', 'as', 'teen', 'magazines', 'are', 'peppered', 'with', 'images', 'of', 'physical', 'perfection', 'or', 'societys', 'definition', 'thereof', 'it', 'would', 'seem', 'as', 'if', 'the', 'first', 'communication', 'from', 'this', 'source', 'the', 'editors', 'letter', 'would', 'foster', 'a', 'readers', 'aspirations', 'and', 'serve', 'to', 'shape', 'them', 'through', 'the', 'magazines', 'contents.the', 'editors', 'letter', 'itself', 'and', 'the', 'attention', 'and', 'importance', 'given', 'to', 'this', 'first', 'and', 'inviting', 'communication', 'mirrors', 'a', 'phenomenon', 'observed', 'by', 'erikson.', 'the', 'elaboration', 'of', 'the', 'entrances', 'to', 'girls', 'play', 'constructions', 'symbolizes', 'both', 'the', 'importance', 'of', 'the', 'vagina', 'as', 'gateway', 'and', 'the', 'symbolic', 'importance', 'of', 'any', 'entry', 'to', 'intimacy.', 'the', 'pseudopersonal', 'note', 'from', 'the', 'editor', 'to', 'the', 'readers', 'of', 'the', 'teen', 'magazine', 'is', 'an', 'embodiment', 'to', 'this', 'attention', 'to', 'detail.', 'the', 'intimate', 'knowledgeable', 'tone', 'taken', 'by', 'the', 'editor', 'in', 'the', 'introduction', 'is', 'a', 'careful', 'seduction', 'and', 'celebration', 'of', 'the', 'magazines', 'interior.', 'this', 'gentle', 'welcome', 'within', 'the', 'first', 'pages', 'of', 'the', 'teen', 'magazine', 'is', 'clearly', 'significant', 'both', 'developmentally', 'and', 'symbolically.this', 'introductory', 'letter', 'from', 'the', 'editor', 'serves', 'both', 'to', 'mask', 'the', 'adultestablishment', 'influence', 'on', 'the', 'magazines', 'publication', 'and', 'to', 'encourage', 'young', 'readers', 'ownership', 'of', 'the', 'text.', 'margaret', 'finders', 'in', 'just', 'girls', 'hidden', 'literacies', 'and', 'life', 'in', 'junior', 'high', 'has', 'observed', 'the', 'effects', 'of', 'this', 'construction', 'while', 'adults', 'produce', 'these', 'teen', 'magazines', 'the', 'girls', 'perceived', 'zines', 'as', 'exclusively', 'their', 'own.', 'they', 'never', 'acknowledged', 'any', 'adult', 'presence', 'behind', 'the', 'youthful', 'images', 'p.', '.', 'although', 'the', 'teen', 'magazines', 'editors', 'may', 'indeed', 'be', 'adults', 'the', 'portraits', 'that', 'accompany', 'their', 'editors', 'letters', 'are', 'in', 'finderss', 'words', 'youthful.', 'cosmogirls', 'atoosa', 'rubensteins', 'recent', 'photograph', 'depicts', 'the', 'twentysomething', 'editor', 'in', 'a', 'tight', 'sleeveless', 'tshirt', 'with', 'glowing', 'skin', 'and', 'a', 'confident', 'smile', 'rubenstein', 'looks', 'like', 'the', 'fantasy', 'older', 'sister.', 'moreover', 'rubensteins', 'invitation', 'to', 'write', 'to', 'her', 'at', 'her', 'email', 'address', 'increases', 'this', 'perception', 'of', 'intimacy.', 'yms', 'opening', 'statement', 'from', 'editor', 'christina', 'kelly', 'is', 'presented', 'in', 'a', 'handwritten', 'font', 'looks', 'like', 'a', 'note', 'that', 'might', 'be', 'passed', 'during', 'a', 'boring', 'class', 'and', 'features', 'a', 'snapshot', 'of', 'kelly', 'clipped', 'to', 'the', 'text.', 'finders', 'continues', 'by', 'concealing', 'any', 'adult', 'presence', 'teen', 'zines', 'were', 'embraced', 'by', 'early', 'adolescent', 'females', 'as', 'their', 'own', 'p.', '.', 'the', 'image', 'of', 'the', 'teen', 'magazine', 'as', 'a', 'guiding', 'publication', 'edited', 'by', 'hip', 'young', 'women', 'is', 'cultivated', 'in', 'the', 'editors', 'letter', 'the', 'presumably', 'suitwearing', 'middleaged', 'business', 'people', 'who', 'financially', 'support', 'the', 'magazines', 'production', 'and', 'the', 'advertising', 'executives', 'who', 'influence', 'the', 'magazines', 'content', 'are', 'distinctly', 'absent', 'personalities', 'from', 'the', 'literal', 'text.the', 'content', 'of', 'many', 'monthly', 'girls', 'magazines', 'may', 'represent', 'to', 'the', 'teen', 'reader', 'the', 'parameters', 'of', 'available', 'identity.', 'in', 'a', 'published', 'study', 'of', 'the', 'content', 'of', 'teen', 'magazines', 'evans', 'and', 'associates', 'examined', 'patterns', 'of', 'content', 'in', 'three', 'of', 'the', 'then', 'most', 'widely', 'circulated', 'teen', 'magazines', 'sassy', 'ym', 'and', 'seventeen.', 'evans', 'and', 'associates', 'found', 'a', 'prevalent', 'double', 'message', 'embedded', 'in', 'the', 'contents', 'of', 'the', 'observed', 'magazines', 'although', 'ostensibly', 'governed', 'by', 'the', 'theme', 'of', 'selfimprovement', 'these', 'publications', 'seem', 'to', 'approach', 'the', 'topic', 'largely', 'through', 'fashion', 'dressing', 'and', 'physical', 'beautification', 'p.', '.', 'while', 'fashion', 'and', 'beauty', 'care', 'dominated', 'the', 'magazines', 'in', 'evanss', 'study', 'the', 'results', 'note', 'articles', 'about', 'interpersonal', 'relations', 'constituted', 'the', 'most', 'frequent', 'category', 'of', 'identity', 'themes', 'and', 'included', 'articles', 'about', 'dating', 'and', 'heterosexuality', 'followed', 'by', 'general', 'peer', 'relations', 'and', 'family', 'issues', 'p.', '.', 'erikson', 'student', 'and', 'psychologist', 'carol', 'gilligan', 'would', 'find', 'the', 'magazines', 'emphasis', 'on', 'interpersonal', 'relationships', 'developmentally', 'apt', 'as', 'she', 'postulates', 'that', 'adolescence', 'is', 'the', 'period', 'during', 'which', 'girls', 'begin', 'to', 'navigate', 'more', 'complex', 'relationships', 'with', 'peers.', 'gilligan', 'writes', 'as', 'girls', 'on', 'the', 'edge', 'of', 'adolescence', 'gain', 'cognitive', 'and', 'emotional', 'capacities', 'to', 'know', 'the', 'relational', 'world', 'in', 'new', 'ways', 'they', 'begin', 'to', 'grasp', 'the', 'realities', 'of', 'relationships', 'and', 'of', 'womens', 'lives', 'in', 'new', 'ways', 'p.', '.enter', 'the', 'teen', 'magazine', 'with', 'its', 'plethora', 'of', 'advice', 'columns', 'from', 'various', 'experts', 'and', 'monthly', 'quizzes', 'to', 'gauge', 'normalcy.', 'by', 'addressing', 'the', 'issues', 'at', 'the', 'forefront', 'of', 'adolescent', 'concerns', 'teen', 'magazines', 'build', 'a', 'near', 'impenetrable', 'front', 'of', 'influence', 'in', 'the', 'lives', 'of', 'adolescent', 'girls.', 'in', 'addition', 'the', 'teen', 'magazine', 'encourages', 'a', 'metarelationshipa', 'relationship', 'with', 'itself.', 'finders', 'again', 'cites', 'the', 'invisibility', 'of', 'adults', 'as', 'an', 'explanation', 'of', 'this', 'relationship', 'the', 'invisibility', 'of', 'adults', 'and', 'the', 'strong', 'sense', 'of', 'sameness', 'may', 'have', 'fostered', 'a', 'sense', 'of', 'seamless', 'connection', 'between', 'their', 'friends', 'and', 'experiences', 'and', 'those', 'in', 'the', 'zines.', 'lacking', 'a', 'critical', 'distance', 'that', 'fiction', 'creates', 'zines', 'were', 'received', 'as', 'truths', 'p.', '.', 'through', 'the', 'personalization', 'of', 'the', 'messages', 'within', 'the', 'invitational', 'editors', 'letter', 'the', 'participatory', 'quizzes', 'the', 'publication', 'of', 'reader', 'letters', 'and', 'concerns', 'teen', 'magazines', 'seek', 'to', 'foster', 'a', 'relationship', 'between', 'the', 'girl', 'and', 'the', 'publication.teen', 'magazines', 'offer', 'illusory', 'personalized', 'messages', 'to', 'readers', 'via', 'the', 'interactive', 'components', 'of', 'the', 'magazine', 'includingbut', 'not', 'limited', 'tothe', 'letters', 'to', 'the', 'editors', 'advice', 'columns', 'embarrassing', 'story', 'submissions', 'and', 'quizzes.', 'this', 'illusion', 'of', 'personalization', 'and', 'even', 'agency', 'not', 'always', 'found', 'in', 'young', 'adult', 'novels', 'may', 'be', 'what', 'makes', 'adolescent', 'magazines', 'an', 'important', 'and', 'even', 'necessary', 'part', 'of', 'a', 'library', 'collection.', 'among', 'the', 'conclusions', 'currie', 'documents', 'in', 'her', 'study', 'the', 'analysis', 'of', 'these', 'interactive', 'components', 'of', 'the', 'magazines', 'is', 'of', 'particular', 'interest.', 'currie', 'exposes', 'the', 'illusion', 'of', 'agency', 'such', 'columns', 'promise', 'writing', 'as', 'in', 'advice', 'columns', 'in', 'quizzes', 'the', 'text', 'offers', 'the', 'seeming', 'pleasure', 'of', 'writing', 'self', 'if', 'the', 'reader', 'is', 'to', 'be', 'rated', 'a', 'successfulhence', 'normalperson', 'this', 'writing', 'must', 'fall', 'within', 'the', 'narrow', 'confines', 'of', 'the', 'values', 'promoted', 'elsewhere', 'in', 'the', 'magazine', '.', 'currie', 'argues', 'that', 'this', 'kind', 'of', 'negotiationbetween', 'the', 'subject', 'and', 'the', 'textproduces', 'a', 'subjectivity', 'constantly', 'engaged', 'in', 'selfregulation', 'and', 'normalization', 'p.', 'to', 'the', 'ends', 'prescribed', 'by', 'the', 'magazine', 'itself.', 'catherine', 'driscoll', 'assumes', 'a', 'similar', 'stance', 'in', 'her', 'ethnography', 'of', 'adolescent', 'girls', 'in', 'western', 'popular', 'culture', 'writing', 'girls', 'magazines', 'foreground', 'both', 'selfsurveillance', 'and', 'selfproduction', 'most', 'explicitly', 'in', 'the', 'problem', 'pages', 'and', 'other', 'scenarios', 'of', 'guidance', 'p.', '.ultimately', 'currie', 'concludes', 'that', 'the', 'lived', 'experiences', 'of', 'adolescent', 'girls', 'are', 'not', 'radically', 'different', 'enough', 'from', 'the', 'prescriptions', 'the', 'magazines', 'suggest', 'to', 'encourage', 'individual', 'formation', 'of', 'alternative', 'modes', 'of', 'subjectivity.', 'citing', 'the', 'normalizing', 'power', 'of', 'school', 'culture', 'currie', 'writes', 'that', 'girls', 'experiences', 'in', 'school', 'reinforce', 'or', 'are', 'reinforced', 'by', 'magazine', 'images', 'of', 'femininity.', 'while', 'girls', 'recognize', 'that', 'magazine', 'standards', 'of', 'feminine', 'beauty', 'are', 'unrealistic', 'experience', 'tells', 'them', 'that', 'the', 'cultural', 'mandate', 'to', 'be', 'beautiful', 'conveyed', 'by', 'these', 'texts', 'is', 'real', 'claims', 'currie', 'p.', '.', 'in', 'conclusion', 'currie', 'writes', 'the', 'power', 'of', 'the', 'text', 'lies', 'in', 'its', 'demonstrated', 'ability', 'not', 'only', 'to', 'construct', 'a', 'reading', 'subject', 'who', 'accepts', 'dominant', 'definitions', 'of', 'being', 'a', 'woman', 'but', 'also', 'to', 'normalize', 'the', 'dominant', 'order', 'as', 'it', 'is', 'experienced', 'through', 'school', 'culture', 'p.', '.', 'magazines', 'seek', 'to', 'document', 'and', 'reproduce', 'the', 'social', 'world', 'of', 'adolescents', 'this', 'textual', 'mirror', 'may', 'offer', 'a', 'truthful', 'enough', 'representation', 'of', 'teen', 'life', 'that', 'the', 'improving', 'suggestions', 'of', 'the', 'publication', 'become', 'normalized', 'and', 'not', 'extreme.', 'that', 'is', 'the', 'lived', 'experiences', 'of', 'teenage', 'girls', 'are', 'not', 'directly', 'informed', 'via', 'literal', 'translations', 'of', 'magazine', 'texts.', 'however', 'the', 'extranormalizing', 'power', 'of', 'these', 'teenzines', 'is', 'a', 'real', 'consequence', 'of', 'their', 'reading.the', 'relationship', 'created', 'between', 'reader', 'and', 'magazine', 'is', 'fostered', 'through', 'text', 'the', 'naturalness', 'with', 'which', 'the', 'words', 'can', 'be', 'read', 'and', 'the', 'articles', 'arguments', 'understood', 'pacifies', 'the', 'reader', 'and', 'may', 'allow', 'her', 'to', 'drift', 'more', 'willingly', 'into', 'the', 'space', 'created', 'between', 'publication', 'and', 'reader.', 'by', 'understanding', 'the', 'cognitive', 'development', 'of', 'adolescents', 'magazine', 'publishers', 'and', 'writers', 'can', 'take', 'advantage', 'of', 'the', 'appropriateness', 'of', 'certain', 'texts', 'and', 'vocabularies.', 'according', 'to', 'piaget', 'early', 'adolescents', 'at', 'the', 'formal', 'operational', 'level', 'are', 'just', 'beginning', 'to', 'apply', 'operations', 'not', 'only', 'to', 'objects', 'but', 'to', 'hypotheses', 'formulated', 'in', 'words', 'p.', '.', 'the', 'teen', 'magazine', 'as', 'developmental', 'guide', 'is', 'rife', 'with', 'hypothetical', 'identities', 'under', 'the', 'guidance', 'of', 'the', 'editors', 'a', 'reader', 'may', 'contemplate', 'presumably', 'through', 'manipulation', 'of', 'fashion', 'and', 'makeup', 'for', 'example', 'a', 'number', 'of', 'personalities.', 'the', 'illustrations', 'of', 'these', 'potential', 'selves', 'are', 'constructed', 'and', 'made', 'more', 'effective', 'by', 'utilizing', 'specific', 'and', 'timely', 'terminology.', 'for', 'example', 'while', 'a', 'teen', 'magazine', 'like', 'ym', 'or', 'cosmogirl', 'may', 'not', 'employ', 'the', 'most', 'sophisticated', 'vocabulary', 'or', 'metaphor', 'the', 'use', 'of', 'teenspecific', 'slang', 'makes', 'the', 'text', 'nearly', 'incomprehensible', 'to', 'those', 'readers', 'outside', 'the', 'influence', 'of', 'teen', 'culture.the', 'inclusion', 'of', 'readerwritten', 'embarrassing', 'anecdotes', 'has', 'heightened', 'the', 'popularity', 'of', 'many', 'teen', 'magazines', 'the', 'developmental', 'appropriateness', 'of', 'this', 'magazine', 'mainstay', 'in', 'which', 'social', 'guidance', 'is', 'offered', 'in', 'the', 'guise', 'of', 'commiseration', 'should', 'be', 'of', 'particular', 'notice.', 'the', 'texts', 'of', 'these', 'columns', 'titled', 'say', 'anything', 'in', 'ym', 'trauma', 'rama', 'in', 'seventeen', 'and', 'why', 'me', 'in', 'teen', 'consist', 'of', 'a', 'collection', 'of', 'embarrassing', 'incidents', 'in', 'the', 'magazine', 'readers', 'lives.', 'readers', 'are', 'encouraged', 'to', 'write', 'to', 'the', 'magazines', 'editors', 'with', 'their', 'own', 'tales', 'which', 'if', 'published', 'will', 'garner', 'ratings', 'on', 'an', 'editorial', 'scale.', 'ym', 'rates', 'its', 'readers', 'tales', 'with', 'a', 'system', 'of', 'stars', 'a', 'singlestar', 'rating', 'translates', 'to', 'a', 'sympathetic', 'glad', 'it', 'didnt', 'happen', 'to', 'me', 'a', 'fourstar', 'humiliation', 'offers', 'the', 'advice', 'better', 'switch', 'school', 'districts.', 'teen', 'magazine', 'utilizes', 'a', 'rating', 'system', 'based', 'on', 'flames', 'oneflame', 'stories', 'are', 'considered', 'less', 'embarrassing', 'than', 'stories', 'rated', 'with', 'four', 'flames.', 'seventeen', 'uses', 'a', 'threetiered', 'rating', 'scale', 'and', 'offers', 'a', 'sarcastic', 'one', 'or', 'two', 'sentence', 'commentary', 'on', 'each', 'anecdote.', 'although', 'the', 'submitted', 'tales', 'are', 'supposedly', 'the', 'work', 'of', 'magazine', 'readers', 'the', 'jargon', 'and', 'tone', 'of', 'the', 'stories', 'themselves', 'belie', 'either', 'a', 'strict', 'reader', 'adherence', 'to', 'the', 'slang', 'and', 'writing', 'style', 'of', 'the', 'magazine', 'or', 'heavy', 'editing.', 'the', 'anecdotes', 'may', 'reference', 'certain', 'popular', 'teen', 'styles', 'by', 'designer', 'name', 'or', 'use', 'teenspecific', 'shorthand', 'like', 'b.f.', 'for', 'best', 'friend', 'or', 'b.f.f.', 'for', 'best', 'female', 'friend', 'to', 'create', 'a', 'tone', 'of', 'inclusion.as', 'with', 'the', 'editors', 'letter', 'the', 'embarrassing', 'stories', 'column', 'utilizes', 'developmentally', 'appropriate', 'text', 'and', 'mimics', 'an', 'interaction', 'between', 'the', 'reader', 'and', 'the', 'publication', 'to', 'encourage', 'readership.', 'the', 'encouragement', 'of', 'submissions', 'as', 'well', 'as', 'the', 'rating', 'of', 'those', 'published', 'writings', 'suggests', 'a', 'real', 'communication', 'between', 'magazine', 'reader', 'and', 'magazine', 'staff.', 'the', 'ratings', 'or', 'comments', 'issued', 'by', 'the', 'magazine', 'staff', 'imply', 'an', 'interactive', 'empathy', 'and', 'personal', 'interaction', 'not', 'unlike', 'that', 'created', 'in', 'the', 'editors', 'letter.', 'occasional', 'inclusion', 'of', 'celebrity', 'shame', 'and', 'staff', 'humiliations', 'serves', 'to', 'widen', 'the', 'empathetic', 'discursive', 'community', 'created', 'in', 'this', 'column.that', 'the', 'experience', 'of', 'shared', 'humiliation', 'is', 'used', 'in', 'this', 'context', 'to', 'encourage', 'readership', 'may', 'seem', 'to', 'be', 'exemplary', 'of', 'the', 'final', 'exit', 'of', 'good', 'taste', 'within', 'publishing.', 'christopher', 'lasch', 'writes', 'in', 'a', 'new', 'republic', 'article', 'concerning', 'shame', 'and', 'the', 'creation', 'of', 'a', 'seemingly', 'uncensored', 'media', 'is', 'there', 'anything', 'our', 'culture', 'still', 'attempts', 'to', 'conceal', 'nothing', 'can', 'shock', 'us', 'anymore', 'least', 'of', 'all', 'intimate', 'revelations', 'about', 'personal', 'life.', 'the', 'mass', 'media', 'do', 'not', 'hesitate', 'to', 'parade', 'the', 'most', 'outlandish', 'perversions', 'the', 'most', 'degraded', 'appetites', 'p.', '.', 'when', 'reading', 'of', 'a', 'fellow', 'teens', 'traumatic', 'experience', 'involving', 'a', 'leaking', 'maxipad', 'and', 'a', 'lightcolored', 'dress', 'or', 'the', 'humiliation', 'involved', 'in', 'passing', 'loud', 'gas', 'during', 'a', 'silent', 'chemistry', 'test', 'it', 'does', 'seem', 'as', 'if', 'no', 'barriers', 'exist', 'between', 'the', 'personal', 'and', 'the', 'publishable.', 'however', 'these', 'texts', 'included', 'in', 'teen', 'magazines', 'and', 'written', 'in', 'a', 'manufactured', 'teen', 'voice', 'are', 'not', 'only', 'developmentally', 'appropriate', 'but', 'also', 'socially', 'instructive.in', 'an', 'overview', 'of', 'the', 'psychological', 'studies', 'related', 'to', 'the', 'emotion', 'of', 'shame', 'thomas', 'j.', 'scheff', 'cites', 'eliass', 'treatment', 'of', 'shame', 'as', 'the', 'most', 'inclusive.', 'according', 'to', 'scheff', 'elias', 'shows', 'that', 'many', 'of', 'the', 'principal', 'sources', 'of', 'shame', 'in', 'modern', 'societies', 'are', 'the', 'body', 'functions', 'ones', 'appearance', 'and', 'ones', 'emotions', 'p.', 'and', 'that', 'these', 'sources', 'of', 'shame', 'are', 'relatively', 'new.', 'elias', 'shows', 'how', 'shame', 'was', 'being', 'used', 'to', 'socialize', 'feelings', 'about', 'sexuality', 'etiquette', 'and', 'emotion', 'by', 'the', 'nineteenth', 'century', 'p.', '.', 'these', 'sources', 'of', 'humiliation', 'still', 'make', 'up', 'the', 'landscape', 'of', 'embarrassment', 'described', 'in', 'the', 'teen', 'texts.', 'when', 'examining', 'the', 'experiences', 'catalogued', 'in', 'teen', 'tales', 'of', 'embarrassment', 'these', 'circumstances', 'are', 'very', 'often', 'mined', 'for', 'humiliating', 'content.in', 'an', 'analysis', 'of', 'six', 'months', 'of', 'embarrassing', 'stories', 'content', 'published', 'in', 'in', 'three', 'leading', 'teen', 'magazinesteen', 'seventeen', 'and', 'ym', 'all', 'of', 'which', 'were', 'located', 'in', 'a', 'noncirculating', 'collection', 'in', 'my', 'local', 'librarya', 'number', 'of', 'thematic', 'consistencies', 'became', 'visible.', 'within', 'each', 'collection', 'scenarios', 'related', 'to', 'teen', 'social', 'encounters', 'rule', 'breaking', 'and', 'physical', 'control', 'showcased', 'teen', 'and', 'often', 'gender', 'specific', 'landscapes', 'as', 'potential', 'etiquette', 'minefields.', 'the', 'subjects', 'of', 'these', 'stories', 'were', 'coded', 'with', 'the', 'following', 'thematic', 'titles', 'showing', 'too', 'much', 'interest', 'in', 'a', 'boy', 'amorous', 'errors', 'accidental', 'nudity', 'partial', 'or', 'complete', 'underwear', 'mention', 'of', 'or', 'view', 'unworn', 'menstrual', 'period', 'including', 'the', 'surprise', 'onset', 'of', 'a', 'menstrual', 'period', 'or', 'the', 'view', 'by', 'others', 'of', 'any', 'feminine', 'hygiene', 'product', 'beauty', 'blunders', 'clothes', 'hair', 'or', 'makeup', 'mistakes', 'noticed', 'by', 'and', 'remarked', 'upon', 'by', 'others', 'showing', 'off', 'accidents', 'that', 'occur', 'when', 'the', 'narrator', 'is', 'vying', 'for', 'attention', 'clumsiness', 'stood', 'up', 'by', 'date', 'bathroomexcrement', 'related', 'caught', 'making', 'out', 'caught', 'breaking', 'rules', 'including', 'school', 'rules', 'or', 'household', 'rules', 'general', 'etiquette', 'and', 'other', 'various', 'errors.', 'while', 'some', 'of', 'the', 'incidents', 'described', 'in', 'the', 'texts', 'illustrate', 'deviance', 'from', 'generally', 'socially', 'understood', 'mores', 'general', 'etiquette', 'caught', 'breaking', 'rules', 'the', 'chronicling', 'of', 'the', 'other', 'less', 'universally', 'understood', 'scenarios', 'serve', 'to', 'as', 'scheff', 'writes', 'socialize', 'feeling', 'about', 'sexuality', 'etiquette', 'and', 'emotion', 'specific', 'to', 'the', 'behavior', 'of', 'adolescent', 'girls.', 'clearly', 'teenaged', 'girls', 'caught', 'out', 'of', 'control', 'making', 'out', 'with', 'a', 'partner', 'showing', 'off', 'to', 'attract', 'attention', 'applying', 'makeup', 'with', 'a', 'heavy', 'or', 'an', 'uneducated', 'hand', 'risk', 'embarrassment', 'and', 'social', 'alienation.', 'the', 'teenaged', 'reader', 'made', 'aware', 'of', 'the', 'risks', 'of', 'certain', 'behaviors', 'in', 'certain', 'scenarios', 'can', 'by', 'studying', 'these', 'columns', 'develop', 'a', 'literal', 'vocabulary', 'of', 'humiliation', 'while', 'absorbing', 'subtextual', 'societal', 'rules.the', 'data', 'included', 'in', 'the', 'figures', 'attached', 'to', 'this', 'research', 'are', 'indicative', 'of', 'an', 'initial', 'and', 'individual', 'reading', 'of', 'the', 'collected', 'embarrassing', 'stories.', 'verification', 'of', 'these', 'findings', 'occurred', 'later', 'and', 'involved', 'the', 'rereading', 'of', 'the', 'texts', 'by', 'the', 'primary', 'investigator', 'and', 'the', 'reading', 'and', 'evaluation', 'of', 'the', 'texts', 'by', 'a', 'secondary', 'reader.', 'in', 'the', 'reading', 'process', 'each', 'reader', 'was', 'asked', 'to', 'code', 'the', 'embarrassing', 'stories', 'in', 'terms', 'of', 'their', 'aboutness', 'and', 'based', 'on', 'a', 'list', 'of', 'subject', 'headings', 'created', 'for', 'this', 'purpose.', 'the', 'aboutness', 'or', 'the', 'subject', 'of', 'each', 'anecdote', 'was', 'to', 'be', 'considered', 'the', 'thing', 'afforded', 'matter', 'or', 'action', 'of', 'a', 'specified', 'kind', 'a', 'ground', 'motive', 'or', 'cause', 'from', 'the', 'oxford', 'english', 'dictionarys', 'definition', 'of', 'subject.', 'that', 'is', 'though', 'the', 'general', 'theme', 'of', 'all', 'the', 'narratives', 'was', 'embarrassment', 'or', 'embarrassing', 'stories', 'the', 'subject', 'selections', 'reference', 'the', 'potential', 'causes', 'of', 'the', 'humiliations', 'described.by', 'tabulating', 'the', 'occurrences', 'of', 'agreement', 'among', 'readers', 'of', 'aboutness', 'a', 'measure', 'of', 'cohens', 'kappa', 'used', 'as', 'an', 'index', 'of', 'interrater', 'reliability', 'was', 'computed.', 'the', 'initial', 'measurement', 'of', 'kappa', 'was', 'insignificant', 'where', 'satisfactory', 'reliability', 'is', 'said', 'to', 'occur', 'with', 'a', 'measurement', 'of', '.', 'the', 'findings', 'here', 'were', 'only', 'reliable', 'at', '..', 'further', 'examination', 'of', 'the', 'data', 'showed', 'that', 'the', 'significanceaffecting', 'disagreement', 'between', 'readers', 'regarded', 'distinguishing', 'the', 'differences', 'between', 'embarrassing', 'events', 'occurring', 'as', 'a', 'result', 'of', 'general', 'clumsiness', 'or', 'as', 'a', 'result', 'of', 'accidents', 'occurring', 'while', 'the', 'narrator', 'was', 'showing', 'off.', 'a', 'hypothetical', 'merging', 'of', 'this', 'data', 'into', 'a', 'single', 'category', 'increased', 'the', 'measurement', 'of', 'kappa', 'past', 'the', 'significant', 'mark.', 'the', 'lack', 'of', 'terminological', 'clarity', 'that', 'seemed', 'to', 'have', 'negatively', 'affected', 'the', 'reliability', 'measurement', 'may', 'be', 'considered', 'a', 'methodological', 'error', 'stricter', 'adherence', 'to', 'the', 'codes', 'of', 'scientific', 'content', 'analysis', 'in', 'an', 'iteration', 'of', 'this', 'examination', 'may', 'allow', 'for', 'more', 'reliable', 'and', 'conclusive', 'statistical', 'data.', 'additional', 'numeric', 'inconclusiveness', 'may', 'have', 'been', 'a', 'result', 'of', 'the', 'gender', 'of', 'the', 'readers.', 'a', 'comparison', 'of', 'the', 'subject', 'assignments', 'of', 'a', 'body', 'of', 'male', 'readers', 'and', 'a', 'body', 'of', 'female', 'readers', 'may', 'address', 'the', 'issue', 'of', 'the', 'gendered', 'nature', 'of', 'the', 'texts', 'and', 'the', 'meaning', 'making', 'implications', 'of', 'such', 'a', 'finding.within', 'the', 'narratives', 'certain', 'phrases', 'were', 'used', 'with', 'frequency', 'to', 'emphasize', 'the', 'dire', 'nature', 'of', 'the', 'embarrassing', 'situation', 'and', 'to', 'heighten', 'the', 'humiliation', 'stakes.', 'according', 'to', 'these', 'anecdotes', 'often', 'the', 'embarrassing', 'act', 'is', 'a', 'secondary', 'source', 'of', 'unease', 'the', 'audience', 'of', 'the', 'act', 'can', 'determine', 'the', 'level', 'of', 'shame', 'conveyed', 'in', 'the', 'text.', 'any', 'embarrassment', 'witnessed', 'by', 'the', 'entire', 'school', 'or', 'entire', 'grade', 'performed', 'before', 'the', 'most', 'popular', 'boy', 'girl', 'or', 'clique', 'or', 'meant', 'to', 'impress', 'the', 'bestlooking', 'or', 'hottest', 'teacher', 'or', 'boy', 'was', 'almost', 'certain', 'to', 'rate', 'higher', 'on', 'the', 'humiliation', 'scale', 'than', 'lowerstakes', 'scenarios.', 'in', 'these', 'anecdotes', 'embarrassment', 'was', 'not', 'necessarily', 'selfdetermined', 'the', 'level', 'of', 'shame', 'was', 'a', 'product', 'of', 'the', 'status', 'of', 'the', 'watchers.', 'this', 'observation', 'is', 'notable', 'both', 'on', 'a', 'discursive', 'and', 'societal', 'level.', 'the', 'drama', 'of', 'the', 'setup', 'for', 'the', 'embarrassing', 'story', 'is', 'heightened', 'by', 'the', 'description', 'of', 'the', 'highstakes', 'audience', 'involved.', 'that', 'the', 'narrators', 'social', 'standing', 'may', 'be', 'in', 'the', 'balance', 'makes', 'the', 'experience', 'of', 'reading', 'the', 'tale', 'all', 'the', 'more', 'delicious.', 'additionally', 'a', 'reader', 'may', 'absorb', 'the', 'implication', 'that', 'she', 'as', 'a', 'female', 'as', 'a', 'character', 'secondary', 'to', 'the', 'popular', 'clique', 'or', 'the', 'bestlooking', 'boy', 'will', 'consistently', 'occupy', 'the', 'object', 'position', 'in', 'both', 'the', 'reallife', 'tale', 'and', 'in', 'her', 'own', 'life.', 'the', 'internalization', 'of', 'the', 'concept', 'of', 'the', 'self', 'as', 'secondary', 'of', 'womanhood', 'as', 'a', 'performance', 'may', 'be', 'a', 'byproduct', 'of', 'these', 'intentionally', 'sympathetic', 'stories.the', 'embarrassing', 'stories', 'content', 'in', 'teen', 'magazines', 'utilize', 'a', 'specific', 'vocabulary', 'of', 'foreshadowing', 'frequent', 'readers', 'of', 'these', 'columns', 'may', 'become', 'adept', 'at', 'interpreting', 'the', 'magazines', 'unique', 'code', 'of', 'prescience.', 'louise', 'rosenblatt', 'writes', 'that', 'a', 'reader', 'brings', 'her', 'own', 'experiences', 'to', 'a', 'text', 'and', 'that', 'these', 'experiences', 'shape', 'the', 'reading', 'of', 'a', 'work', 'for', 'an', 'individual.', 'these', 'experiences', 'may', 'include', 'knowledge', 'of', 'another', 'language', 'situational', 'experiences', 'similar', 'to', 'the', 'conflicts', 'portrayed', 'in', 'the', 'literature', 'or', 'exposure', 'to', 'specific', 'cultural', 'symbols', 'and', 'mores.', 'rosenblatt', 'writes', 'that', 'the', 'words', 'on', 'the', 'page', 'encourage', 'the', 'reader', 'to', 'draw', 'on', 'his', 'past', 'experiences', 'with', 'what', 'the', 'words', 'point', 'to', 'in', 'life', 'and', 'literature.', 'the', 'text', 'presents', 'these', 'words', 'in', 'a', 'new', 'and', 'unique', 'pattern.', 'out', 'of', 'these', 'he', 'is', 'enabled', 'actually', 'to', 'mold', 'a', 'new', 'experience', 'the', 'literary', 'work', 'p.', '.', 'in', 'the', 'case', 'of', 'adolescent', 'magazines', 'embarrassing', 'stories', 'a', 'specific', 'language', 'of', 'prediction', 'is', 'honed', 'as', 'readers', 'accumulate', 'experiences', 'with', 'a', 'text.the', 'acquisition', 'of', 'an', 'embarrassing', 'stories', 'vocabulary', 'becomes', 'part', 'of', 'what', 'rosenblatt', 'would', 'deem', 'a', 'literary', 'experience', 'the', 'readers', 'fluency', 'in', 'this', 'vocabulary', 'will', 'inform', 'her', 'reading', 'of', 'the', 'stories', 'themselves.', 'for', 'example', 'often', 'in', 'the', 'tales', 'of', 'menstrual', 'mistakes', 'the', 'mention', 'of', 'a', 'white', 'dress', 'worn', 'by', 'the', 'protagonist', 'hints', 'at', 'a', 'forthcoming', 'menstrual', 'disaster.', 'that', 'a', 'ruined', 'white', 'or', 'lightcolored', 'dress', 'or', 'outfit', 'becomes', 'code', 'for', 'the', 'ultimate', 'menstrual', 'mistake', 'is', 'of', 'special', 'note', 'the', 'evidence', 'of', 'womanhood', 'itself', 'as', 'displayed', 'in', 'a', 'clothing', 'stain', 'is', 'an', 'ironic', 'and', 'distinctly', 'genderspecific', 'source', 'of', 'embarrassment', 'to', 'portray', 'in', 'a', 'teenage', 'girls', 'magazine.', 'that', 'the', 'merest', 'hint', 'of', 'a', 'girls', 'menstrual', 'period', 'is', 'the', 'source', 'of', 'embarrassment', 'is', 'evidenced', 'in', 'the', 'tales', 'involving', 'the', 'accidental', 'sighting', 'of', 'wrapped', 'tampons', 'or', 'the', 'purchase', 'of', 'feminine', 'hygiene', 'items.', 'additional', 'harbingers', 'of', 'doom', 'include', 'the', 'mention', 'of', 'special', 'attention', 'paid', 'to', 'appearancehair', 'clothes', 'and', 'makeupin', 'anticipation', 'of', 'a', 'particular', 'often', 'romantic', 'encounter', 'these', 'best', 'laid', 'plans', 'can', 'fail', 'when', 'a', 'newly', 'laundered', 'outfit', 'attracts', 'a', 'pair', 'of', 'staticy', 'underpants', 'a', 'trendy', 'pair', 'of', 'jeans', 'gets', 'wet', 'and', 'bleeds', 'dye', 'on', 'the', 'wearer', 'or', 'a', 'tight', 'pair', 'of', 'pants', 'splits', 'as', 'the', 'wearer', 'bends', 'over', 'to', 'attract', 'a', 'male.the', 'cultivation', 'of', 'a', 'specific', 'vocabulary', 'of', 'suspense', 'and', 'foreshadowing', 'that', 'is', 'granted', 'meaning', 'from', 'the', 'context', 'in', 'which', 'it', 'is', 'situated', 'is', 'a', 'phenomenon', 'present', 'here', 'and', 'described', 'in', 'readerresponse', 'theory.', 'following', 'rosenblatt', 'we', 'can', 'hypothesize', 'that', 'the', 'readers', 'past', 'experiences', 'with', 'reading', 'similarly', 'themed', 'tales', 'allow', 'her', 'to', 'predict', 'the', 'scenario', 'of', 'humiliation', 'explicated', 'in', 'each', 'embarrassing', 'text.', 'this', 'predictability', 'grants', 'a', 'certain', 'power', 'to', 'the', 'experienced', 'reader', 'that', 'is', 'unavailable', 'to', 'the', 'stories', 'narrators', 'while', 'the', 'narrator', 'of', 'an', 'embarrassing', 'story', 'fails', 'to', 'anticipate', 'the', 'humiliation', 'to', 'come', 'the', 'readerfluent', 'in', 'the', 'language', 'of', 'the', 'texthas', 'likely', 'foreseen', 'the', 'embarrassment', 'described', 'later.', 'this', 'foresight', 'is', 'a', 'predictive', 'gift', 'cultivated', 'by', 'the', 'reader', 'as', 'she', 'reads', 'one', 'that', 'bestows', 'on', 'her', 'a', 'certain', 'prescient', 'textual', 'power.', 'the', 'reallife', 'application', 'of', 'this', 'reading', 'is', 'less', 'agential', 'with', 'the', 'literal', 'narrative', 'absent', 'in', 'her', 'living', 'world', 'the', 'teen', 'reader', 'learns', 'to', 'edit', 'her', 'own', 'movements', 'in', 'anticipation', 'and', 'avoidance', 'of', 'the', 'outcomes', 'described', 'in', 'the', 'embarrassing', 'stories.although', 'the', 'embarrassing', 'stories', 'can', 'be', 'categorized', 'by', 'subject', 'or', 'anecdote', 'see', 'table', 'a', 'less', 'granular', 'approach', 'to', 'analysis', 'reveals', 'three', 'primary', 'themes', 'discussed', 'throughout', 'the', 'columns', 'behavior', 'with', 'boys', 'body', 'function', 'and', 'intimate', 'exposure.', 'behavior', 'with', 'boys', 'is', 'discussed', 'and', 'analyzed', 'at', 'length', 'in', 'these', 'columns', 'heterosexual', 'relations', 'are', 'characterized', 'as', 'fraught', 'with', 'potential', 'hazards.', 'embarrassing', 'anecdotes', 'of', 'amorous', 'errors', 'include', 'in', 'an', 'issue', 'of', 'seventeen', 'a', 'tale', 'of', 'a', 'weldedtogether', 'pair', 'whose', 'braces', 'and', 'lip', 'jewelry', 'linked', 'together', 'nearly', 'inextricably.', 'getting', 'caught', 'in', 'a', 'clinch', 'by', 'parents', 'brothers', 'and', 'sisters', 'or', 'teachers', 'is', 'the', 'source', 'of', 'much', 'humiliation', 'as', 'is', 'showing', 'too', 'much', 'interest', 'in', 'a', 'member', 'of', 'the', 'opposite', 'sex.', 'stories', 'dealing', 'with', 'the', 'functions', 'of', 'the', 'body', 'centered', 'mainly', 'around', 'menstrual', 'period', 'disasters', 'with', 'ym', 'devoting', 'an', 'entire', 'months', 'column', 'to', 'menstrual', 'stories.', 'stories', 'falling', 'under', 'the', 'intimate', 'exposure', 'category', 'include', 'both', 'accidental', 'nudity', 'and', 'the', 'exposure', 'of', 'or', 'mention', 'of', 'a', 'narrators', 'underwear.', 'the', 'mere', 'mention', 'of', 'or', 'glimpse', 'of', 'the', 'underwear', 'proved', 'embarrassing', 'even', 'if', 'the', 'underwear', 'was', 'unworn', 'that', 'is', 'viewed', 'in', 'a', 'drawer', 'or', 'backpack.', 'these', 'three', 'general', 'categories', 'can', 'be', 'easily', 'mapped', 'onto', 'eliass', 'per', 'scheff', 'primary', 'sources', 'of', 'shame', 'the', 'body', 'functions', 'mapped', 'to', 'body', 'functions', 'ones', 'appearance', 'mapped', 'to', 'intimate', 'exposure', 'and', 'ones', 'emotions', 'mapped', 'to', 'amorous', 'errors.', 'while', 'scheff', 'and', 'elias', 'may', 'argue', 'that', 'their', 'thematic', 'categories', 'are', 'universal', 'as', 'the', 'categories', 'are', 'recalled', 'in', 'the', 'pages', 'of', 'adolescent', 'girls', 'magazines', 'their', 'treatment', 'becomes', 'distinctly', 'gendered.', 'see', 'tables', 'and', '.tableembarrassing', 'incidentsembarrassing', 'actoccurrences', 'ymoccurrences', 'seventeenoccurrences', 'teennnnshowing', 'too', 'much', 'interest', 'in', 'a', 'boy...amorous', 'errors..accidental', 'nudity', 'partial', 'or', 'complete.underwear', 'mention', 'of', 'or', 'view', 'unworn..menstrual', 'period..beauty', 'blunders', 'clothes', 'hair', 'or', 'makeup...showing', 'off...clumsiness..stood', 'up', 'by', 'date..bathroomexcrement', 'related..caught', 'making', 'out..caught', 'breaking', 'rules..general', 'etiquette...other...totaltablecontent', 'analysis', 'statistics', 'of', 'subject', 'heading', 'assignment', 'agreementa', 'aefcohens', 'kym..teen..seventeen..total...statistically', 'significant', 'at', 'the', '.', 'level.tablethematic', 'categorization', 'of', 'embarrassing', 'storiesthematic', 'categoryymseventeenteennnnbehavior', 'with', 'boys', 'too', 'much', 'interest', 'amorous', 'errors', 'caught', 'making', 'out', 'stood', 'up', 'for', 'date..body', 'function', 'menstrual', 'mistakes', 'excrement', 'etc..intimate', 'exposure', 'accidental', 'nudity', 'underwear', 'exposed..other...statistically', 'significant', 'at', 'the', '.', 'level.approximately', 'half', 'of', 'the', 'scenarios', 'described', 'in', 'ym', 'and', 'seventeen', 'involved', 'some', 'kind', 'of', 'social', 'or', 'corporeal', 'control.', 'the', 'reader', 'learning', 'from', 'and', 'laughing', 'with', 'these', 'texts', 'may', 'absorb', 'the', 'socializing', 'shorthand', 'present', 'beneath', 'the', 'text.', 'if', 'feminine', 'success', 'is', 'measured', 'by', 'the', 'avoidance', 'of', 'humiliations', 'as', 'great', 'as', 'those', 'published', 'the', 'social', 'lessons', 'taught', 'in', 'the', 'magazines', 'columns', 'involve', 'decreasing', 'participation', 'in', 'events', 'that', 'could', 'lead', 'to', 'the', 'outcomes', 'depicted.', 'a', 'certain', 'social', 'paranoia', 'may', 'emerge', 'in', 'the', 'reader', 'who', 'absorbs', 'the', 'identity', 'of', 'the', 'watchful', 'woman', 'who', 'must', 'be', 'ever', 'vigilant', 'guarding', 'her', 'intimate', 'apparel', 'from', 'view', 'avoiding', 'revealing', 'clothing', 'and', 'maintaining', 'the', 'secrecy', 'surrounding', 'menstruation', 'or', 'any', 'bodily', 'function.', 'luise', 'eichenbaum', 'and', 'susie', 'orbach', 'identified', 'these', 'ideas', 'of', 'selfdenial', 'and', 'feminine', 'presentation', 'in', 'their', 'book', 'understanding', 'women', 'a', 'feminist', 'psychoanalytic', 'approach.', 'according', 'to', 'eichenbaum', 'and', 'orbach', 'the', 'exhibition', 'of', 'the', 'edited', 'self', 'is', 'learned', 'in', 'childhood', 'observation', 'the', 'little', 'girl', 'absorbs', 'the', 'idea', 'that', 'to', 'get', 'love', 'and', 'approval', 'she', 'must', 'show', 'a', 'particular', 'side', 'of', 'herself.', 'she', 'must', 'hide', 'her', 'emotional', 'cravings', 'her', 'disappointments', 'and', 'her', 'angers.', 'she', 'must', 'hide', 'her', 'self.', 'she', 'comes', 'to', 'feel', 'that', 'there', 'must', 'be', 'something', 'wrong', 'with', 'who', 'she', 'really', 'is', 'which', 'in', 'turn', 'must', 'mean', 'there', 'is', 'something', 'wrong', 'with', 'what', 'she', 'needs', 'and', 'what', 'she', 'wants', 'p.', '.the', 'teen', 'magazine', 'may', 'further', 'this', 'concept', 'with', 'its', 'embarrassing', 'stories', 'based', 'on', 'their', 'exploitation', 'of', 'social', 'donts', 'the', 'female', 'reader', 'may', 'learn', 'to', 'associate', 'some', 'of', 'her', 'natural', 'inclinations', 'menstruation', 'sexuality', 'with', 'inappropriateness.', 'the', 'irreverent', 'and', 'genuinely', 'humorous', 'content', 'of', 'these', 'columns', 'of', 'embarrassing', 'stories', 'attracts', 'readers', 'while', 'the', 'use', 'of', 'developmentally', 'appropriate', 'language', 'and', 'topical', 'subject', 'matter', 'furthers', 'an', 'agenda', 'of', 'social', 'control.the', 'eventual', 'outcome', 'of', 'the', 'internalization', 'of', 'these', 'rules', 'may', 'already', 'have', 'been', 'predicted', 'by', 'eichenbaum', 'and', 'orbach', 'slowly', 'the', 'girl', 'develops', 'an', 'acceptable', 'self', 'one', 'that', 'appears', 'selfsufficient', 'and', 'capable', 'and', 'will', 'receive', 'more', 'consistent', 'acceptance', 'p.', '.', 'taylor', 'l.', 'a', 'teen', 'writing', 'of', 'a', 'regifting', 'humiliation', 'for', 'teens', 'embarrassing', 'stories', 'page', 'illustrates', 'the', 'discomfort', 'resulting', 'from', 'the', 'false', 'fronting', 'i', 'pretended', 'to', 'laugh', 'with', 'the', 'other', 'students', 'laughing', 'at', 'me', 'but', 'deep', 'down', 'i', 'felt', 'like', 'barfing.although', 'teen', 'magazines', 'may', 'be', 'seen', 'as', 'gross', 'influences', 'on', 'girls', 'identity', 'development', 'it', 'is', 'important', 'to', 'theorize', 'the', 'effects', 'of', 'the', 'discourse', 'and', 'to', 'examine', 'how', 'readers', 'of', 'these', 'magazines', 'navigate', 'the', 'text.', 'readerresponse', 'theorist', 'arthur', 'applebee', 'links', 'readers', 'responses', 'to', 'text', 'to', 'development', 'mainly', 'following', 'piagets', 'theorized', 'stages', 'of', 'development.', 'during', 'adolescence', 'the', 'resources', 'of', 'formal', 'operations', 'have', 'a', 'dramatic', 'effect', 'on', 'the', 'childs', 'response', 'to', 'literature', 'theorizes', 'applebee', 'p.', '.', 'as', 'readers', 'mature', 'their', 'ability', 'to', 'relate', 'to', 'and', 'draw', 'conclusions', 'from', 'a', 'text', 'increases', 'in', 'scope', 'and', 'complexity.', 'applebee', 'claims', 'that', 'as', 'readers', 'enter', 'the', 'initial', 'stages', 'of', 'formal', 'operations', 'their', 'ability', 'to', 'analyze', 'a', 'text', 'in', 'terms', 'of', 'their', 'own', 'experiences', 'is', 'developed.', 'this', 'onetoone', 'relationship', 'between', 'reader', 'experience', 'and', 'text', 'is', 'complicated', 'as', 'the', 'reader', 'reaches', 'the', 'later', 'stage', 'of', 'formal', 'operations', 'and', 'begins', 'to', 'see', 'the', 'text', 'as', 'one', 'of', 'many', 'statements', 'of', 'how', 'life', 'might', 'be', 'understood', 'rather', 'than', 'simply', 'a', 'presentation', 'of', 'life', 'as', 'it', 'is', 'p.', '.', 'the', 'initial', 'period', 'of', 'text', 'relation', 'begins', 'around', 'age', 'or', 'coincidentally', 'in', 'the', 'continuum', 'of', 'most', 'teen', 'magazines', 'target', 'marketsand', 'grows', 'in', 'analytic', 'complexity', 'around', 'age', '.', 'here', 'we', 'may', 'see', 'the', 'window', 'of', 'time', 'marked', 'by', 'personal', 'relation', 'to', 'textpiagets', 'initial', 'stage', 'of', 'formal', 'operations', 'and', 'applebees', 'early', 'stage', 'of', 'analytic', 'abilitya', 'unique', 'period', 'of', 'vulnerability', 'to', 'developmental', 'influence', 'through', 'text.developmentalists', 'psychologists', 'and', 'even', 'readerresponse', 'theorists', 'characterize', 'the', 'period', 'of', 'adolescence', 'as', 'a', 'period', 'of', 'shifting', 'paradigms.', 'erikson', 'writes', 'of', 'the', 'painful', 'selfawareness', 'of', 'the', 'teen', 'years', 'and', 'the', 'struggle', 'to', 'attach', 'to', 'a', 'frame', 'of', 'reference', 'outside', 'the', 'self', 'on', 'which', 'to', 'build', 'identity.', 'piaget', 'associates', 'adolescence', 'with', 'the', 'increasing', 'ability', 'to', 'perform', 'complex', 'tasks', 'while', 'applebee', 'applies', 'this', 'cognitive', 'growth', 'to', 'literacy', 'and', 'the', 'experience', 'of', 'reading.', 'teen', 'magazines', 'constructed', 'with', 'this', 'convoluted', 'time', 'of', 'physical', 'and', 'cognitive', 'development', 'in', 'mind', 'do', 'answer', 'the', 'needs', 'of', 'adolescent', 'readers.', 'by', 'providing', 'a', 'framework', 'for', 'identity', 'growth', 'supplying', 'images', 'of', 'societal', 'perfection', 'and', 'taking', 'advantage', 'of', 'the', 'onetoone', 'relationship', 'that', 'can', 'be', 'forged', 'between', 'reader', 'and', 'text', 'magazines', 'for', 'teenagers', 'as', 'well', 'as', 'those', 'for', 'adults', 'effectively', 'guide', 'identity', 'development.', 'the', 'narrowness', 'of', 'this', 'identity', 'framework', 'as', 'well', 'as', 'the', 'normalcy', 'promised', 'if', 'the', 'guidelines', 'described', 'in', 'the', 'magazines', 'are', 'followed', 'is', 'a', 'source', 'of', 'critique', 'identified', 'by', 'driscoll', 'through', 'a', 'cult', 'of', 'normality', 'and', 'an', 'eroticisation', 'of', 'the', 'adolescent', 'womans', 'concern', 'with', 'normalizing', 'her', 'body', 'the', 'feminine', 'adolescent', 'body', 'is', 'constructed', 'in', 'girls', 'magazines', 'as', 'a', 'range', 'of', 'desires', 'trespassed', 'upon', 'by', 'a', 'variety', 'of', 'physiological', 'imperfections', 'p.', '.', 'clearly', 'driscoll', 'and', 'others', 'acknowledge', 'the', 'successfulness', 'of', 'these', 'publications', 'in', 'defining', 'the', 'parameters', 'of', 'identity', 'and', 'encouraging', 'the', 'marketing', 'of', 'these', 'identities', 'to', 'teenaged', 'readers.', 'the', 'effectiveness', 'of', 'these', 'magazines', 'to', 'shape', 'the', 'identities', 'of', 'readers', 'is', 'rarely', 'called', 'into', 'question', 'on', 'the', 'contrary', 'it', 'is', 'the', 'shape', 'of', 'the', 'identities', 'the', 'publications', 'advocate', 'that', 'is', 'more', 'often', 'argued.after', 'reading', 'earnest', 'letters', 'from', 'the', 'editors', 'of', 'teen', 'magazines', 'to', 'the', 'thousands', 'of', 'readers', 'who', 'purchase', 'the', 'publication', 'each', 'month', 'it', 'becomes', 'difficult', 'to', 'situate', 'the', 'friendly', 'and', 'helpful', 'intent', 'of', 'the', 'magazine', 'staff', 'within', 'a', 'greater', 'context', 'of', 'capitalism', 'and', 'accusations', 'of', 'exploitation.', 'joy', 'leman', 'reminds', 'us', 'that', 'the', 'incantations', 'of', 'false', 'intimacy', 'are', 'foregroundeda', 'discourse', 'of', 'friendliness', 'reassuring', 'and', 'relocating', 'women', 'in', 'an', 'idea', 'of', 'oppression', 'and', 'a', 'position', 'of', 'exploitation', 'are', 'present', 'in', 'every', 'issue', 'p.', '.', 'indeed', 'according', 'to', 'leman', 'the', 'developmental', 'needs', 'of', 'girls', 'can', 'be', 'manipulated', 'to', 'serve', 'the', 'status', 'quo', 'and', 'to', 'maintain', 'the', 'profit', 'motivations', 'that', 'sustain', 'girls', 'monthlies.', 'in', 'a', 'power', 'relationship', 'mirroring', 'capitalism', 'the', 'teen', 'magazine', 'creates', 'its', 'own', 'audience', 'and', 'thus', 'its', 'own', 'sustenance.', 'as', 'ideals', 'are', 'marketed', 'and', 'branded', 'within', 'the', 'glossy', 'pages', 'advertisers', 'pay', 'to', 'incorporate', 'themselves', 'within', 'the', 'identity', 'for', 'sale.', 'according', 'to', 'ross', 'ballaster', 'and', 'colleagues', 'the', 'use', 'of', 'a', 'feminine', 'discourse', 'the', 'manipulation', 'and', 'creation', 'of', 'gendered', 'needs', 'answered', 'by', 'advertised', 'products', 'and', 'the', 'construction', 'of', 'the', 'female', 'reader', 'as', 'consumer', 'is', 'intrinsic', 'to', 'the', 'survival', 'of', 'the', 'magazines', 'and', 'the', 'market', 'that', 'supports', 'them.', 'defining', 'women', 'as', 'not', 'men', 'is', 'evidently', 'not', 'a', 'sufficient', 'one', 'for', 'the', 'womens', 'magazine', 'reports', 'ballaster', 'in', 'a', 'analysis', 'of', 'womens', 'publications.', 'if', 'women', 'are', 'to', 'buy', 'and', 'to', 'be', 'they', 'cannot', 'be', 'defined', 'solely', 'in', 'the', 'negative', 'femininity', 'has', 'to', 'be', 'given', 'a', 'particular', 'content', 'p.', '.', 'here', 'femininity', 'is', 'advertised', 'as', 'a', 'shifting', 'product', 'an', 'identity', 'dependent', 'on', 'the', 'consumption', 'of', 'goods', 'or', 'the', 'application', 'of', 'products.', 'more', 'important', 'this', 'advertising', 'is', 'displayed', 'in', 'a', 'uniquely', 'feminine', 'space', 'erikson', 'where', 'as', 'ballaster', 'writes', 'women', 'are', 'more', 'than', 'just', 'not', 'men.because', 'of', 'the', 'developmental', 'appropriateness', 'of', 'teen', 'magazines', 'their', 'influence', 'on', 'identity', 'development', 'has', 'the', 'potential', 'to', 'be', 'great.', 'however', 'opponents', 'of', 'the', 'magazine', 'argue', 'that', 'the', 'identities', 'illustrated', 'between', 'the', 'pagesgirlfriend', 'model', 'student', 'woman', 'sexual', 'beingare', 'often', 'considered', 'insignificant', 'weak', 'or', 'even', 'degrading.', 'this', 'weakness', 'is', 'an', 'illusion', 'founded', 'on', 'a', 'history', 'marked', 'by', 'the', 'limited', 'documentation', 'of', 'the', 'participation', 'of', 'women', 'in', 'socalled', 'relevant', 'historical', 'activity.', 'the', 'identity', 'historically', 'accepted', 'by', 'womenincluding', 'the', 'feminine', 'virtues', 'of', 'passive', 'goodness', 'personal', 'service', 'to', 'others', 'and', 'devotion', 'to', 'the', 'domestic', 'sphere', 'p.', 'has', 'been', 'limited', 'not', 'just', 'by', 'a', 'conspiracy', 'of', 'patriarchy', 'but', 'by', 'every', 'woman', 'who', 'blindly', 'accepts', 'the', 'supposed', 'weakness', 'associated', 'with', 'this', 'identity.', 'by', 'escaping', 'the', 'idea', 'of', 'the', 'female', 'as', 'notmale', 'and', 'associating', 'femaleness', 'with', 'pleasure', 'and', 'attractiveness', 'p.', 'as', 'young', 'girls', 'did', 'in', 'an', 'iteration', 'of', 'eriksons', 'study', 'a', 'uniquely', 'feminine', 'power', 'may', 'be', 'cultivated.', 'furthermore', 'perhaps', 'the', 'perception', 'of', 'weakness', 'or', 'insignificant', 'success', 'lies', 'in', 'the', 'frame', 'we', 'draw', 'around', 'womens', 'accomplishments', 'and', 'identities.', 'the', 'female', 'space', 'women', 'create', 'and', 'celebrate', 'is', 'markedly', 'different', 'from', 'the', 'male', 'power', 'symbol', 'and', 'cannot', 'be', 'evaluated', 'in', 'the', 'same', 'way.', 'recognizing', 'the', 'strength', 'in', 'both', 'models', 'of', 'power', 'and', 'identity', 'may', 'be', 'the', 'first', 'step', 'toward', 'a', 'goal', 'of', 'parity', 'and', 'a', 'loosening', 'of', 'societal', 'restraints', 'binding', 'womens', 'identities.while', 'some', 'teen', 'magazines', 'may', 'be', 'dismissed', 'as', 'fluff', 'by', 'teachers', 'and', 'librarians', 'researchers', 'examining', 'the', 'practice', 'of', 'literacy', 'remark', 'on', 'the', 'agency', 'associated', 'with', 'reading', 'popular', 'texts.', 'meredith', 'cherland', 'in', 'an', 'examination', 'of', 'girls', 'reading', 'practices', 'in', 'a', 'canadian', 'elementary', 'and', 'junior', 'high', 'school', 'encourages', 'us', 'to', 'view', 'the', 'popular', 'reading', 'of', 'teenage', 'girls', 'outside', 'of', 'school', 'assignments', 'as', 'recursive.', 'cherland', 'drawing', 'from', 'giroux', 'writes', 'that', 'girls', 'popular', 'reading', 'goes', 'against', 'the', 'hidden', 'curriculum', 'present', 'in', 'many', 'schools', 'that', 'would', 'equate', 'the', 'male', 'experience', 'with', 'human', 'experience.', 'literature', 'assigned', 'in', 'the', 'school', 'cherland', 'observed', 'served', 'on', 'the', 'one', 'hand', 'to', 'validate', 'only', 'mans', 'experience', 'of', 'the', 'world', 'and', 'on', 'the', 'other', 'hand', 'to', 'position', 'female', 'people', 'as', 'outsiders', 'p.', '.', 'the', 'girls', 'cherland', 'observed', 'turned', 'to', 'what', 'some', 'many', 'consider', 'gendered', 'readings', 'including', 'the', 'babysitters', 'club', 'and', 'sweet', 'valley', 'high', 'series', 'to', 'supplement', 'the', 'literature', 'offered', 'in', 'school.', 'this', 'practice', 'turn', 'toward', 'the', 'reading', 'of', 'scholastically', 'antithetical', 'texts', 'is', 'labeled', 'the', 'literate', 'underlife', 'by', 'finders', '.', 'finders', 'writes', 'of', 'the', 'agency', 'of', 'girls', 'who', 'read', 'against', 'the', 'masculine', 'grain', 'of', 'assigned', 'fiction', 'and', 'who', 'practice', 'literacy', 'in', 'subversive', 'ways', 'by', 'writing', 'graffiti', 'passing', 'and', 'reading', 'notes', 'and', 'reading', 'adolescent', 'magazines', 'and', 'popular', 'fiction', 'literate', 'underlife', 'created', 'opportunities', 'to', 'disrupt', 'the', 'official', 'to', 'document', 'a', 'refusal', 'to', 'embrace', 'the', 'obligations', 'of', 'the', 'institution', 'p.', '.', 'thus', 'the', 'action', 'of', 'reading', 'in', 'opposition', 'to', 'teacherprescribed', 'norms', 'becomes', 'in', 'the', 'eyes', 'of', 'cherland', 'and', 'finders', 'an', 'act', 'of', 'rebellion.while', 'the', 'act', 'of', 'subversive', 'reading', 'may', 'be', 'a', 'revolutionary', 'one', 'theorists', 'note', 'that', 'female', 'readers', 'actively', 'negotiate', 'the', 'content', 'of', 'what', 'some', 'consider', 'to', 'be', 'repressive', 'and', 'gendered', 'texts', 'as', 'well.', 'in', 'sherrie', 'innesss', 'collection', 'of', 'essays', 'delinquents', 'and', 'debutantes', 'twentieth', 'century', 'american', 'girls', 'cultures', 'a', 'number', 'of', 'the', 'writers', 'note', 'the', 'tendency', 'of', 'readers', 'to', 'develop', 'strategies', 'for', 'reading', 'popular', 'texts.', 'angela', 'hubler', 'writing', 'of', 'girls', 'reading', 'practices', 'notes', 'girl', 'readers', 'commonly', 'focused', 'on', 'aspects', 'of', 'texts', 'that', 'confirmed', 'female', 'behavior', 'they', 'found', 'desirable', 'while', 'ignoring', 'or', 'forgetting', 'aspects', 'that', 'undermined', 'these', 'behaviors', 'and', 'she', 'concludes', 'it', 'is', 'clear', 'that', 'girls', 'are', 'not', 'blank', 'slates', 'that', 'unthinkingly', 'reproduce', 'the', 'ideological', 'messages', 'written', 'upon', 'them', 'p.', '.', 'cherland', 'echoes', 'this', 'observation', 'writing', 'the', 'thoughts', 'and', 'emotions', 'of', 'the', 'individual', 'girlstheir', 'sense', 'of', 'themselves', 'and', 'their', 'ways', 'of', 'understanding', 'their', 'relation', 'to', 'the', 'world', 'are', 'constituted', 'as', 'a', 'dynamic', 'process.', 'each', 'girl', 'reader', 'also', 'creates', 'and', 'practices', 'individual', 'forms', 'of', 'resistance', 'to', 'these', 'broad', 'cultural', 'forms', 'p.', '.', 'there', 'is', 'a', 'certain', 'dynamism', 'that', 'occurs', 'when', 'girls', 'read', 'literature', 'and', 'texts', 'created', 'just', 'for', 'them', 'clearly', 'adolescent', 'girl', 'readers', 'are', 'engaged', 'in', 'a', 'dialogue', 'with', 'the', 'text', 'not', 'unlike', 'the', 'transaction', 'suggested', 'by', 'rosenblatt.', 'while', 'experience', 'with', 'a', 'certain', 'genre', 'or', 'texttype', 'has', 'the', 'potential', 'to', 'inform', 'the', 'future', 'reading', 'of', 'similarly', 'themed', 'materials', 'the', 'ultimate', 'product', 'of', 'girls', 'reading', 'is', 'the', 'result', 'of', 'a', 'number', 'of', 'textual', 'and', 'extratextual', 'influences', 'e.g.', 'cherlands', 'thoughts', 'and', 'emotions', 'of', 'individual', 'girls.the', 'practitioners', 'dilemma', 'in', 'selecting', 'these', 'magazines', 'for', 'a', 'school', 'or', 'public', 'library', 'collection', 'arises', 'as', 'she', 'weighs', 'the', 'consequences', 'of', 'supporting', 'what', 'lehman', 'and', 'others', 'deem', 'the', 'capitalist', 'patriarchy', 'that', 'supports', 'the', 'publications', 'themselves', 'against', 'the', 'potential', 'benefits', 'associated', 'with', 'encouraging', 'a', 'literate', 'underlife.', 'if', 'as', 'cherland', 'maintains', 'the', 'public', 'school', 'curriculum', 'confers', 'male', 'privilege', 'via', 'the', 'assignment', 'of', 'masculine', 'texts', 'the', 'inclusion', 'of', 'feminized', 'textslike', 'the', 'teen', 'magazinesin', 'a', 'school', 'librarys', 'collection', 'might', 'serve', 'to', 'bring', 'female', 'readers', 'to', 'voice.', 'operating', 'under', 'the', 'assumption', 'that', 'girl', 'readers', 'are', 'not', 'passive', 'consumers', 'we', 'might', 'discover', 'that', 'the', 'girls', 'reactions', 'to', 'and', 'negotiations', 'with', 'these', 'popular', 'texts', 'hone', 'their', 'critical', 'literacy.', 'moreover', 'the', 'greater', 'availability', 'of', 'these', 'magazines', 'in', 'schools', 'and', 'public', 'libraries', 'may', 'foil', 'the', 'capitalist', 'mechanism', 'that', 'supports', 'their', 'existence', 'as', 'fewer', 'girls', 'purchase', 'in', 'book', 'and', 'drug', 'stores', 'what', 'they', 'might', 'read', 'gratis', 'during', 'lunch', 'period', 'with', 'a', 'group', 'of', 'friends', 'in', 'the', 'library.teen', 'magazines', 'are', 'powerful', 'purveyors', 'of', 'image', 'and', 'identity.', 'a', 'cover', 'spot', 'on', 'a', 'hot', 'teen', 'magazine', 'may', 'guarantee', 'a', 'rising', 'star', 'success', 'as', 'well', 'as', 'boost', 'sales', 'of', 'the', 'publication.', 'it', 'is', 'the', 'inherent', 'power', 'relationshipbetween', 'the', 'teenage', 'feminine', 'interest', 'identity', 'development', 'popular', 'culture', 'relationship', 'navigation', 'and', 'the', 'interests', 'of', 'the', 'advertising', 'agencies', 'that', 'influence', 'magazine', 'contentthat', 'is', 'at', 'the', 'crux', 'of', 'the', 'controversy', 'surrounding', 'the', 'influence', 'of', 'teen', 'magazines', 'on', 'their', 'readers.', 'the', 'tone', 'of', 'intimacy', 'and', 'the', 'creation', 'of', 'a', 'feminine', 'space', 'between', 'the', 'pages', 'of', 'the', 'publications', 'mirror', 'a', 'selfawareness', 'intrinsic', 'in', 'adolescent', 'development.', 'to', 'begin', 'reading', 'a', 'girls', 'teen', 'magazine', 'is', 'to', 'enter', 'a', 'world', 'of', 'selfinterest', 'a', 'uniquely', 'feminine', 'world', 'concerned', 'with', 'not', 'only', 'appearance', 'but', 'also', 'bodily', 'function', 'and', 'interpersonal', 'relationships.', 'ironically', 'or', 'perhaps', 'appropriately', 'it', 'is', 'the', 'towering', 'influence', 'of', 'the', 'capital', 'driving', 'the', 'publication', 'of', 'such', 'magazines', 'that', 'sours', 'the', 'experience.', 'the', 'inner', 'space', 'created', 'within', 'the', 'magazine', 'is', 'tainted', 'by', 'the', 'pervasive', 'advertising', 'content', 'the', 'princess', 'is', 'despoiled', 'but', 'by', 'the', 'grace', 'of', 'the', 'grounded', 'reader', 'maintains', 'hope', 'for', 'rebirth.']]\n"
     ]
    }
   ],
   "source": [
    "sentence_stream = [file_text.split()]\n",
    "print (sentence_stream)"
   ]
  },
  {
   "cell_type": "markdown",
   "metadata": {},
   "source": [
    "# ML with Word2Vec "
   ]
  },
  {
   "cell_type": "markdown",
   "metadata": {},
   "source": [
    "## Gensim’s word2vec expects a sequence of sentences as its input."
   ]
  },
  {
   "cell_type": "code",
   "execution_count": 39,
   "metadata": {
    "scrolled": true
   },
   "outputs": [],
   "source": [
    "import gzip\n",
    "import logging"
   ]
  },
  {
   "cell_type": "code",
   "execution_count": 40,
   "metadata": {},
   "outputs": [],
   "source": [
    "logging.basicConfig(format='%(asctime)s : %(levelname)s : %(message)s', level=logging.INFO)"
   ]
  },
  {
   "cell_type": "code",
   "execution_count": 41,
   "metadata": {},
   "outputs": [
    {
     "name": "stderr",
     "output_type": "stream",
     "text": [
      "2019-10-07 18:51:28,148 : INFO : collecting all words and their counts\n",
      "2019-10-07 18:51:28,149 : INFO : PROGRESS: at sentence #0, processed 0 words, keeping 0 word types\n",
      "2019-10-07 18:51:28,150 : INFO : collected 3 word types from a corpus of 4 raw words and 2 sentences\n",
      "2019-10-07 18:51:28,151 : INFO : Loading a fresh vocabulary\n",
      "2019-10-07 18:51:28,152 : INFO : effective_min_count=1 retains 3 unique words (100% of original 3, drops 0)\n",
      "2019-10-07 18:51:28,153 : INFO : effective_min_count=1 leaves 4 word corpus (100% of original 4, drops 0)\n",
      "2019-10-07 18:51:28,154 : INFO : deleting the raw counts dictionary of 3 items\n",
      "2019-10-07 18:51:28,155 : INFO : sample=0.001 downsamples 3 most-common words\n",
      "2019-10-07 18:51:28,156 : INFO : downsampling leaves estimated 0 word corpus (5.7% of prior 4)\n",
      "2019-10-07 18:51:28,157 : INFO : estimated required memory for 3 words and 100 dimensions: 3900 bytes\n",
      "2019-10-07 18:51:28,158 : INFO : resetting layer weights\n",
      "2019-10-07 18:51:28,159 : INFO : training model with 3 workers on 3 vocabulary and 100 features, using sg=0 hs=0 sample=0.001 negative=5 window=5\n",
      "2019-10-07 18:51:28,164 : INFO : worker thread finished; awaiting finish of 2 more threads\n",
      "2019-10-07 18:51:28,166 : INFO : worker thread finished; awaiting finish of 1 more threads\n",
      "2019-10-07 18:51:28,167 : INFO : worker thread finished; awaiting finish of 0 more threads\n",
      "2019-10-07 18:51:28,168 : INFO : EPOCH - 1 : training on 4 raw words (0 effective words) took 0.0s, 0 effective words/s\n",
      "2019-10-07 18:51:28,172 : INFO : worker thread finished; awaiting finish of 2 more threads\n",
      "2019-10-07 18:51:28,173 : INFO : worker thread finished; awaiting finish of 1 more threads\n",
      "2019-10-07 18:51:28,174 : INFO : worker thread finished; awaiting finish of 0 more threads\n",
      "2019-10-07 18:51:28,175 : INFO : EPOCH - 2 : training on 4 raw words (0 effective words) took 0.0s, 0 effective words/s\n",
      "2019-10-07 18:51:28,180 : INFO : worker thread finished; awaiting finish of 2 more threads\n",
      "2019-10-07 18:51:28,183 : INFO : worker thread finished; awaiting finish of 1 more threads\n",
      "2019-10-07 18:51:28,184 : INFO : worker thread finished; awaiting finish of 0 more threads\n",
      "2019-10-07 18:51:28,186 : INFO : EPOCH - 3 : training on 4 raw words (1 effective words) took 0.0s, 143 effective words/s\n",
      "2019-10-07 18:51:28,191 : INFO : worker thread finished; awaiting finish of 2 more threads\n",
      "2019-10-07 18:51:28,192 : INFO : worker thread finished; awaiting finish of 1 more threads\n",
      "2019-10-07 18:51:28,193 : INFO : worker thread finished; awaiting finish of 0 more threads\n",
      "2019-10-07 18:51:28,194 : INFO : EPOCH - 4 : training on 4 raw words (0 effective words) took 0.0s, 0 effective words/s\n",
      "2019-10-07 18:51:28,199 : INFO : worker thread finished; awaiting finish of 2 more threads\n",
      "2019-10-07 18:51:28,201 : INFO : worker thread finished; awaiting finish of 1 more threads\n",
      "2019-10-07 18:51:28,202 : INFO : worker thread finished; awaiting finish of 0 more threads\n",
      "2019-10-07 18:51:28,203 : INFO : EPOCH - 5 : training on 4 raw words (0 effective words) took 0.0s, 0 effective words/s\n",
      "2019-10-07 18:51:28,203 : INFO : training on a 20 raw words (1 effective words) took 0.0s, 23 effective words/s\n",
      "2019-10-07 18:51:28,205 : WARNING : under 10 jobs per worker: consider setting a smaller `batch_words' for smoother alpha decay\n"
     ]
    }
   ],
   "source": [
    "sentences = [['first', 'sentence'], ['second', 'sentence']]\n",
    "# train word2vec on the two sentences\n",
    "model = gensim.models.Word2Vec(sentences, min_count=1)"
   ]
  },
  {
   "cell_type": "markdown",
   "metadata": {},
   "source": [
    "## Sentence split into a list"
   ]
  },
  {
   "cell_type": "code",
   "execution_count": 42,
   "metadata": {},
   "outputs": [],
   "source": [
    "from nltk.tokenize import sent_tokenize\n",
    "sent_list = sent_tokenize(file_text)"
   ]
  },
  {
   "cell_type": "markdown",
   "metadata": {},
   "source": [
    "## Generate a list of list of sentences"
   ]
  },
  {
   "cell_type": "code",
   "execution_count": 43,
   "metadata": {},
   "outputs": [],
   "source": [
    "# list into a list of lists \n",
    "  \n",
    "def extractDigits(sent_list): \n",
    "    return [[el] for el in sent_list] \n",
    "                  \n",
    "\n",
    "list_sentlist=(extractDigits(sent_list)) "
   ]
  },
  {
   "cell_type": "markdown",
   "metadata": {},
   "source": [
    "## Generate the Word2Vec model"
   ]
  },
  {
   "cell_type": "code",
   "execution_count": 44,
   "metadata": {
    "scrolled": true
   },
   "outputs": [
    {
     "name": "stderr",
     "output_type": "stream",
     "text": [
      "2019-10-07 18:51:28,239 : INFO : collecting all words and their counts\n",
      "2019-10-07 18:51:28,240 : INFO : PROGRESS: at sentence #0, processed 0 words, keeping 0 word types\n",
      "2019-10-07 18:51:28,241 : INFO : collected 220 word types from a corpus of 220 raw words and 220 sentences\n",
      "2019-10-07 18:51:28,242 : INFO : Loading a fresh vocabulary\n",
      "2019-10-07 18:51:28,243 : INFO : effective_min_count=1 retains 220 unique words (100% of original 220, drops 0)\n",
      "2019-10-07 18:51:28,244 : INFO : effective_min_count=1 leaves 220 word corpus (100% of original 220, drops 0)\n",
      "2019-10-07 18:51:28,247 : INFO : deleting the raw counts dictionary of 220 items\n",
      "2019-10-07 18:51:28,248 : INFO : sample=0.001 downsamples 220 most-common words\n",
      "2019-10-07 18:51:28,248 : INFO : downsampling leaves estimated 151 word corpus (68.9% of prior 220)\n",
      "2019-10-07 18:51:28,250 : INFO : estimated required memory for 220 words and 100 dimensions: 286000 bytes\n",
      "2019-10-07 18:51:28,251 : INFO : resetting layer weights\n",
      "2019-10-07 18:51:28,261 : INFO : training model with 3 workers on 220 vocabulary and 100 features, using sg=0 hs=0 sample=0.001 negative=5 window=5\n",
      "2019-10-07 18:51:28,265 : INFO : worker thread finished; awaiting finish of 2 more threads\n",
      "2019-10-07 18:51:28,266 : INFO : worker thread finished; awaiting finish of 1 more threads\n",
      "2019-10-07 18:51:28,268 : INFO : worker thread finished; awaiting finish of 0 more threads\n",
      "2019-10-07 18:51:28,268 : INFO : EPOCH - 1 : training on 220 raw words (153 effective words) took 0.0s, 46405 effective words/s\n",
      "2019-10-07 18:51:28,272 : INFO : worker thread finished; awaiting finish of 2 more threads\n",
      "2019-10-07 18:51:28,273 : INFO : worker thread finished; awaiting finish of 1 more threads\n",
      "2019-10-07 18:51:28,274 : INFO : worker thread finished; awaiting finish of 0 more threads\n",
      "2019-10-07 18:51:28,274 : INFO : EPOCH - 2 : training on 220 raw words (146 effective words) took 0.0s, 43413 effective words/s\n",
      "2019-10-07 18:51:28,279 : INFO : worker thread finished; awaiting finish of 2 more threads\n",
      "2019-10-07 18:51:28,281 : INFO : worker thread finished; awaiting finish of 1 more threads\n",
      "2019-10-07 18:51:28,283 : INFO : worker thread finished; awaiting finish of 0 more threads\n",
      "2019-10-07 18:51:28,284 : INFO : EPOCH - 3 : training on 220 raw words (144 effective words) took 0.0s, 26540 effective words/s\n",
      "2019-10-07 18:51:28,288 : INFO : worker thread finished; awaiting finish of 2 more threads\n",
      "2019-10-07 18:51:28,290 : INFO : worker thread finished; awaiting finish of 1 more threads\n",
      "2019-10-07 18:51:28,291 : INFO : worker thread finished; awaiting finish of 0 more threads\n",
      "2019-10-07 18:51:28,292 : INFO : EPOCH - 4 : training on 220 raw words (145 effective words) took 0.0s, 31672 effective words/s\n",
      "2019-10-07 18:51:28,297 : INFO : worker thread finished; awaiting finish of 2 more threads\n",
      "2019-10-07 18:51:28,298 : INFO : worker thread finished; awaiting finish of 1 more threads\n",
      "2019-10-07 18:51:28,300 : INFO : worker thread finished; awaiting finish of 0 more threads\n",
      "2019-10-07 18:51:28,301 : INFO : EPOCH - 5 : training on 220 raw words (148 effective words) took 0.0s, 28723 effective words/s\n",
      "2019-10-07 18:51:28,302 : INFO : training on a 1100 raw words (736 effective words) took 0.0s, 18475 effective words/s\n",
      "2019-10-07 18:51:28,304 : WARNING : under 10 jobs per worker: consider setting a smaller `batch_words' for smoother alpha decay\n"
     ]
    }
   ],
   "source": [
    "model = gensim.models.Word2Vec(list_sentlist, min_count=1)"
   ]
  },
  {
   "cell_type": "code",
   "execution_count": 45,
   "metadata": {},
   "outputs": [
    {
     "name": "stdout",
     "output_type": "stream",
     "text": [
      "Word2Vec(vocab=220, size=100, alpha=0.025)\n",
      "{'they call to us from newsstands and racks by grocery store checkouts the bright colors on their covers competing with the candy displays teen magazines are the literary sweet that satisfies the craving for normalcy.': <gensim.models.keyedvectors.Vocab object at 0x000001F40B3A4B70>, 'the covers of the latest teen magazines aimed at adolescent girls promise readers dates beauty and success and feature celebrity role models smiling beneath the mastheads.': <gensim.models.keyedvectors.Vocab object at 0x000001F40B782CC0>, 'the experience of reading the glossy booklets seems ultimately depressing compared to the rich superstar singer the skinniest model even the glamorous writers the reader would require an identity facelift to compete with these supposed peers.': <gensim.models.keyedvectors.Vocab object at 0x000001F40B782C50>, 'yet teen magazines continue to flourish as in the last five years traditionally womens magazines have released little sister editions of their titles including the bestselling cosmogirl in  teentargeted magazines seventeen ym and cosmogirl were among abcs top  circulating magazines with average circulations of   and  respectively mpa resources.': <gensim.models.keyedvectors.Vocab object at 0x000001F40B788518>, 'amid the arguments against these systematic monthly selfesteem deflators readership grows.': <gensim.models.keyedvectors.Vocab object at 0x000001F40B7885C0>, 'what needs are being fulfilled by these monthly publications and what makes them such popular reading materialmagazines created for teenage girls are effective because of their developmental appropriateness the relationship developed between magazine and reader represents a distinct feminine space while the demands of the text itself are appropriate to the analytic ability of the adolescent.': <gensim.models.keyedvectors.Vocab object at 0x000001F40B788470>, 'the inclusion of the confessional embarrassing story column that has become the mainstay of the teen magazine is a unique example of the sympathetic space created between reader and text by the magazines.': <gensim.models.keyedvectors.Vocab object at 0x000001F40B7882E8>, 'the embarrassing stories content of these magazines is purposefully constructed not only to entertain but also to offer behavioral guidance the editors of these columns rely on specific hypotheses regarding adolescent literacy and development to maintain this dual function.': <gensim.models.keyedvectors.Vocab object at 0x000001F40B7886D8>, 'by examining theories of adolescent identity development and the implied effects of environment on selfesteem building we can investigate the influence of teen magazines and their embarrassing stories on adolescent girls and theorizethrough the use of reader responsethe full impact of these texts.we may look to the discipline of developmental psychology to support our theory of the developmental appropriateness of teen magazines.': <gensim.models.keyedvectors.Vocab object at 0x000001F40B788320>, 'psychologist erik erikson examined the effects of the environment on child development and concluded that in adolescence identity development is relative to gender.': <gensim.models.keyedvectors.Vocab object at 0x000001F40B788828>, 'freudian psychology pronounced this presumption as well linking identity and selfconcept to recognition of gender however freuds identity construction theory is centered on one symbol.': <gensim.models.keyedvectors.Vocab object at 0x000001F40B788860>, 'to freudian psychologists identity is created on the basis of genitalia one is the possessor of a phallus or one is not.': <gensim.models.keyedvectors.Vocab object at 0x000001F40B788898>, 'on the contrary erikson theorizes that identity development begins with the recognition of ones gender as unique and not necessarily relative to its opposite.': <gensim.models.keyedvectors.Vocab object at 0x000001F40B788710>, 'erikson has written it is never enough then to characterize the sexes by the way they differ from each other.': <gensim.models.keyedvectors.Vocab object at 0x000001F40B7887B8>, 'rather each sex is characterized by a uniqueness which includes but is not summed up by its difference from the other sex  .': <gensim.models.keyedvectors.Vocab object at 0x000001F40B7888D0>, 'thus according to erikson identity begins in either sex with a positive construction not a relative or negative association with a power figure.eriksons theory of the uniqueness of gendered experience was developed after his observation of children at play and later by an iteration of tests of play construction.': <gensim.models.keyedvectors.Vocab object at 0x000001F40B7882B0>, 'as erikson observed children playing with a prescribed set of constructing objects he noticed a difference in the theme of constructs based on sex.': <gensim.models.keyedvectors.Vocab object at 0x000001F40B788908>, 'in evaluating a childs play construction i had to take into consideration the fact that girls and boys used space differently and that certain configurations occurred strikingly often in the constructions of one sex and rarely in those of the other noted erikson  p. .': <gensim.models.keyedvectors.Vocab object at 0x000001F40B788978>, 'under eriksons observation boys had the tendency to build towers and tall buildings and then destroy these scenes in elaborate action sequences.': <gensim.models.keyedvectors.Vocab object at 0x000001F40B788940>, 'girls constructions however were of interiors and included elaborate attention to the detail of the entrance of these buildings.': <gensim.models.keyedvectors.Vocab object at 0x000001F40B7889B0>, 'each genders construction seemed categorically symbolic of sexual identity though neither employed the same language of symbol.': <gensim.models.keyedvectors.Vocab object at 0x000001F40B7889E8>, 'that is instead of constructing an elaborate shrine to the phallus as freud may have expected girls celebrated the womb.': <gensim.models.keyedvectors.Vocab object at 0x000001F40B788A20>, 'these observations led erikson to believe that the recognition of sexual identity is not relative but singular.although erikson recognizes the female as unique and her experience as individuated he approaches gendered societal roles with fatalism.': <gensim.models.keyedvectors.Vocab object at 0x000001F40B788A58>, 'woman in many ways has kept her place within the typologies and cosmologies which men have had the exclusive opportunity to cultivate and to idolize writes erikson  p. .': <gensim.models.keyedvectors.Vocab object at 0x000001F40B788A90>, 'indeed though women can be blamed for their acceptance of the gendered status quo erikson does admit to a masculine influence in the preservation of the patriarchy no doubt there exists among men an honest sense of wishing to save  a sexual polarity  and an essential difference which they fear may be lost in too much sameness  p. .': <gensim.models.keyedvectors.Vocab object at 0x000001F40B788AC8>, 'with these statements erikson implies a certain biologic determinism in the construction of sex or gender roles.': <gensim.models.keyedvectors.Vocab object at 0x000001F40B788B00>, 'this determinism is exemplified in the teen magazine itself the magazine is a form of placeholding within eriksons socalled typologies and cosmologies.': <gensim.models.keyedvectors.Vocab object at 0x000001F40B788B38>, 'while many magazines aimed at teenage girls preach girl power and even a political agency of sorts that the magazines notions of power are gendered confirms the preservation of eriksons sexual polarity.': <gensim.models.keyedvectors.Vocab object at 0x000001F40B788B70>, 'a static system is continually recreated as new generations of adolescents come of age and accept or absorb traditional ideas of their roles within a capitalist society.where do magazines fit in this relationship of maintenance and revolution are teenage girls like communist countries in need of democratization are magazines for girls mediated by capital and directed at females in a critical stage of development a tool to maintain the patriarchy joy leman in a criticism of womens magazines writes of the monthlies as media products and deems them part of an ideological apparatus presenting a view of the world which is at most points locked into the economics and political interests of the capitalist system  p. .': <gensim.models.keyedvectors.Vocab object at 0x000001F40B788BA8>, 'dawn currie echoes this point in her study of teenage girls magazines teenzine messages are a product of the relations among various economic interests that include editors publishing houses and advertising agencies and their clients  p. .': <gensim.models.keyedvectors.Vocab object at 0x000001F40B788BE0>, 'here currie identifies girls magazines and the messages within them as products of a greater capitalist mechanism.': <gensim.models.keyedvectors.Vocab object at 0x000001F40B788C18>, 'if we view capitalism as a masculine construction in which women cannot assert themselves we may also recognize womens magazines as an evil tool of this system.': <gensim.models.keyedvectors.Vocab object at 0x000001F40B788C50>, 'however an alternative view can be constructed via eriksons theories of identity development.': <gensim.models.keyedvectors.Vocab object at 0x000001F40B788C88>, 'womens and girls magazines celebrate the feminine inner space emphasized in the girls constructions and represent a forum albeit limited by advertising for issues of interest to females.': <gensim.models.keyedvectors.Vocab object at 0x000001F40B788CC0>, 'angela mcrobbies recent work concerning womens and adolescent girls magazines has included critical remarks regarding the discursive tradition that would focus on the detrimental read nonfeminist nature of these publications.': <gensim.models.keyedvectors.Vocab object at 0x000001F40B788CF8>, 'mcrobbie writes there remains an important relation between feminism and the world of girls and womens magazines the new intersections between them need to be examined in depth  p. .both erikson and fellow developmentalist jean piaget recognize the power of the peer group to influence identity development and the teen magazine as a guide is a peer group itself.': <gensim.models.keyedvectors.Vocab object at 0x000001F40B788D30>, 'piaget claims that the identification with a microcosm of society allows an individual to feel anchored in the world.': <gensim.models.keyedvectors.Vocab object at 0x000001F40B788D68>, 'the adolescent claims piaget views its own plans and activities as they relate to an idealized social group.': <gensim.models.keyedvectors.Vocab object at 0x000001F40B788DA0>, 'the individual thus begins to think of itself as a fullfledged member of society  p. .': <gensim.models.keyedvectors.Vocab object at 0x000001F40B788DD8>, 'the teen magazine with its images of corporeal perfection and promises of social success can be seen as evidence of a social ideal to which developing teens may aspire.': <gensim.models.keyedvectors.Vocab object at 0x000001F40B788E10>, 'selfdevelopment is referential and in varying ways influenced by an individuals alignment with a social group.': <gensim.models.keyedvectors.Vocab object at 0x000001F40B788E48>, 'such identification may lead an adolescent to form a mirror group or clique of her own.': <gensim.models.keyedvectors.Vocab object at 0x000001F40B788E80>, 'according to erikson the discomfort of adolescence when genital puberty floods body and imagination with all manner of impulses is assuaged by forming cliques and stereotyping themselves  p. .': <gensim.models.keyedvectors.Vocab object at 0x000001F40B788EB8>, 'elizabeth heilman echoing erikson in  claims that the dominant class structure is additionally reinforced through the selfdetermined groupings of adolescents from different social class backgrounds  p. .': <gensim.models.keyedvectors.Vocab object at 0x000001F40B788EF0>, 'the media are a direct source for images of social groupings as teens seek refuge in a socially safe category teen magazines in particular offer monthly images of social promise.the use of language particularly the cultivation of an inclusive narrative voice is a primary method employed by womens and girls magazines to create a feminine space.': <gensim.models.keyedvectors.Vocab object at 0x000001F40B788F28>, 'many girls magazines begin with a letter from the editor the intimate tone of which writes leman attempts to establish some kind of sisterly relationship between magazine and reader  p. .': <gensim.models.keyedvectors.Vocab object at 0x000001F40B788F60>, 'yms monthly letter from the editor is wrapped around candid snapshots of the editor herself the magazine staff and sometimes celebrities.': <gensim.models.keyedvectors.Vocab object at 0x000001F40B788F98>, 'teen magazines editorial letter is much less folksy and signed by the teen crew while cosmogirl usually features a closeup of editor atoosa rubenstein and invitations to contact her directly via email.': <gensim.models.keyedvectors.Vocab object at 0x000001F40B788FD0>, 'according to erikson adolescent attachment to these glamorous sisterly role models is not uncommon.': <gensim.models.keyedvectors.Vocab object at 0x000001F40B7A3048>, 'in fact the relationship encouraged between magazine and reader is developmentally significant.': <gensim.models.keyedvectors.Vocab object at 0x000001F40B7A3080>, 'as adolescents look to their surroundings to mediate identity construction their willingness to put their trust in those peers and leading or misleading elders who will give imaginative if not illusory scope to their aspirations is only too obvious  p. .': <gensim.models.keyedvectors.Vocab object at 0x000001F40B7A30B8>, 'as teen magazines are peppered with images of physical perfection or societys definition thereof it would seem as if the first communication from this source the editors letter would foster a readers aspirations and serve to shape them through the magazines contents.the editors letter itself and the attention and importance given to this first and inviting communication mirrors a phenomenon observed by erikson.': <gensim.models.keyedvectors.Vocab object at 0x000001F40B7A30F0>, 'the elaboration of the entrances to girls play constructions symbolizes both the importance of the vagina as gateway and the symbolic importance of any entry to intimacy.': <gensim.models.keyedvectors.Vocab object at 0x000001F40B7A3128>, 'the pseudopersonal note from the editor to the readers of the teen magazine is an embodiment to this attention to detail.': <gensim.models.keyedvectors.Vocab object at 0x000001F40B7A3160>, 'the intimate knowledgeable tone taken by the editor in the introduction is a careful seduction and celebration of the magazines interior.': <gensim.models.keyedvectors.Vocab object at 0x000001F40B7A3198>, 'this gentle welcome within the first pages of the teen magazine is clearly significant both developmentally and symbolically.this introductory letter from the editor serves both to mask the adultestablishment influence on the magazines publication and to encourage young readers ownership of the text.': <gensim.models.keyedvectors.Vocab object at 0x000001F40B7A31D0>, 'margaret finders in just girls hidden literacies and life in junior high has observed the effects of this construction while  adults produce these teen magazines the girls perceived zines as exclusively their own.': <gensim.models.keyedvectors.Vocab object at 0x000001F40B7A3208>, 'they never acknowledged any adult presence behind the youthful images  p. .': <gensim.models.keyedvectors.Vocab object at 0x000001F40B7A3240>, 'although the teen magazines editors may indeed be adults the portraits that accompany their editors letters are in finderss words youthful.': <gensim.models.keyedvectors.Vocab object at 0x000001F40B7A3278>, 'cosmogirls atoosa rubensteins recent photograph depicts the twentysomething editor in a tight sleeveless tshirt with glowing skin and a confident smile rubenstein looks like the fantasy older sister.': <gensim.models.keyedvectors.Vocab object at 0x000001F40B7A32B0>, 'moreover rubensteins invitation to write to her  at her email address increases this perception of intimacy.': <gensim.models.keyedvectors.Vocab object at 0x000001F40B7A32E8>, 'yms opening statement from editor christina kelly is presented in a handwritten font looks like a note that might be passed during a boring class and features a snapshot of kelly clipped to the text.': <gensim.models.keyedvectors.Vocab object at 0x000001F40B7A3320>, 'finders continues by concealing any adult presence teen zines were embraced by early adolescent females as their own  p. .': <gensim.models.keyedvectors.Vocab object at 0x000001F40B7A3358>, 'the image of the teen magazine as a guiding publication edited by hip young women is cultivated in the editors letter the presumably suitwearing middleaged business people who financially support the magazines production and the advertising executives who influence the magazines content are distinctly absent personalities from the literal text.the content of many monthly girls magazines may represent to the teen reader the parameters of available identity.': <gensim.models.keyedvectors.Vocab object at 0x000001F40B7A3390>, 'in a  published study of the content of teen magazines evans and associates examined patterns of content in three of the then most widely circulated teen magazines sassy ym and seventeen.': <gensim.models.keyedvectors.Vocab object at 0x000001F40B7A33C8>, 'evans and associates found a prevalent double message embedded in the contents of the observed magazines although ostensibly governed by the theme of selfimprovement these publications seem to approach the topic largely through fashion dressing and physical beautification  p. .': <gensim.models.keyedvectors.Vocab object at 0x000001F40B7A3400>, 'while fashion and beauty care dominated the magazines in evanss study the results note articles about interpersonal relations constituted the most frequent category of identity themes  and included articles about dating and heterosexuality  followed by general peer relations  and family issues  p. .': <gensim.models.keyedvectors.Vocab object at 0x000001F40B7A3438>, 'erikson student and psychologist carol gilligan would find the magazines emphasis on interpersonal relationships developmentally apt as she postulates that adolescence is the period during which girls begin to navigate more complex relationships with peers.': <gensim.models.keyedvectors.Vocab object at 0x000001F40B7A3470>, 'gilligan writes as girls on the edge of adolescence gain cognitive and emotional capacities to know the relational world in new ways  they begin to grasp the realities of relationships and of womens lives in new ways  p. .enter the teen magazine with its plethora of advice columns from various experts and monthly quizzes to gauge normalcy.': <gensim.models.keyedvectors.Vocab object at 0x000001F40B7A34A8>, 'by addressing the issues at the forefront of adolescent concerns teen magazines build a near impenetrable front of influence in the lives of adolescent girls.': <gensim.models.keyedvectors.Vocab object at 0x000001F40B7A34E0>, 'in addition the teen magazine encourages a metarelationshipa relationship with itself.': <gensim.models.keyedvectors.Vocab object at 0x000001F40B7A3518>, 'finders again cites the invisibility of adults as an explanation of this relationship the invisibility of adults and the strong sense of sameness may have fostered a sense of seamless connection between their friends and experiences and those in the zines.': <gensim.models.keyedvectors.Vocab object at 0x000001F40B7A3550>, 'lacking a critical distance that fiction creates zines were received as truths  p. .': <gensim.models.keyedvectors.Vocab object at 0x000001F40B7A3588>, 'through the personalization of the messages within the invitational editors letter the participatory quizzes the publication of reader letters and concerns teen magazines seek to foster a relationship between the girl and the publication.teen magazines offer illusory personalized messages to readers via the interactive components of the magazine includingbut not limited tothe letters to the editors advice columns embarrassing story submissions and quizzes.': <gensim.models.keyedvectors.Vocab object at 0x000001F40B7A35C0>, 'this illusion of personalization and even agency not always found in young adult novels may be what makes adolescent magazines an important and even necessary part of a library collection.': <gensim.models.keyedvectors.Vocab object at 0x000001F40B7A35F8>, 'among the conclusions currie documents in her study the analysis of these interactive components of the magazines is of particular interest.': <gensim.models.keyedvectors.Vocab object at 0x000001F40B7A3630>, 'currie exposes the illusion of agency such columns promise writing as in advice columns in quizzes  the text offers the seeming pleasure of writing self if the reader is to be rated a successfulhence normalperson this writing must fall within the narrow confines of the values promoted elsewhere in the magazine  .': <gensim.models.keyedvectors.Vocab object at 0x000001F40B7A3668>, 'currie argues that this kind of negotiationbetween the subject and the textproduces a subjectivity constantly engaged in selfregulation and normalization  p.  to the ends prescribed by the magazine itself.': <gensim.models.keyedvectors.Vocab object at 0x000001F40B7A36A0>, 'catherine driscoll assumes a similar stance in her ethnography of adolescent girls in western popular culture writing girls magazines foreground both selfsurveillance and selfproduction most explicitly in the problem pages and other scenarios of guidance  p. .ultimately currie concludes that the lived experiences of adolescent girls are not radically different enough from the prescriptions the magazines suggest to encourage individual formation of alternative modes of subjectivity.': <gensim.models.keyedvectors.Vocab object at 0x000001F40B7A36D8>, 'citing the normalizing power of school culture currie writes that girls experiences in school reinforce or are reinforced by magazine images of femininity.': <gensim.models.keyedvectors.Vocab object at 0x000001F40B7A3710>, 'while girls recognize that magazine standards of feminine beauty are unrealistic experience tells them that the cultural mandate to be beautiful conveyed by these texts is real claims currie  p. .': <gensim.models.keyedvectors.Vocab object at 0x000001F40B7A3748>, 'in conclusion currie writes the power of the text lies in its demonstrated ability not only to construct a reading subject who accepts dominant definitions of being a woman but also to normalize the dominant order as it is experienced through school culture  p. .': <gensim.models.keyedvectors.Vocab object at 0x000001F40B7A3780>, 'magazines seek to document and reproduce the social world of adolescents this textual mirror may offer a truthful enough representation of teen life that the improving suggestions of the publication become normalized and not extreme.': <gensim.models.keyedvectors.Vocab object at 0x000001F40B7A37B8>, 'that is the lived experiences of teenage girls are not directly informed via literal translations of magazine texts.': <gensim.models.keyedvectors.Vocab object at 0x000001F40B7A37F0>, 'however the extranormalizing power of these teenzines is a real consequence of their reading.the relationship created between reader and magazine is fostered through text the naturalness with which the words can be read and the articles arguments understood pacifies the reader and may allow her to drift more willingly into the space created between publication and reader.': <gensim.models.keyedvectors.Vocab object at 0x000001F40B7A3828>, 'by understanding the cognitive development of adolescents magazine publishers and writers can take advantage of the appropriateness of certain texts and vocabularies.': <gensim.models.keyedvectors.Vocab object at 0x000001F40B7A3860>, 'according to piaget early adolescents at the formal operational level are just beginning to apply operations not only to objects but to hypotheses formulated in words  p. .': <gensim.models.keyedvectors.Vocab object at 0x000001F40B7A3898>, 'the teen magazine as developmental guide is rife with hypothetical identities under the guidance of the editors a reader may contemplate presumably through manipulation of fashion and makeup for example a number of personalities.': <gensim.models.keyedvectors.Vocab object at 0x000001F40B7A38D0>, 'the illustrations of these potential selves are constructed and made more effective by utilizing specific and timely terminology.': <gensim.models.keyedvectors.Vocab object at 0x000001F40B7A3908>, 'for example while a teen magazine like ym or cosmogirl may not employ the most sophisticated vocabulary or metaphor the use of teenspecific slang makes the text nearly incomprehensible to those readers outside the influence of teen culture.the inclusion of readerwritten embarrassing anecdotes has heightened the popularity of many teen magazines the developmental appropriateness of this magazine mainstay in which social guidance is offered in the guise of commiseration should be of particular notice.': <gensim.models.keyedvectors.Vocab object at 0x000001F40B7A3940>, 'the texts of these columns titled say anything in ym trauma rama in seventeen and why me in teen consist of a collection of embarrassing incidents in the magazine readers lives.': <gensim.models.keyedvectors.Vocab object at 0x000001F40B7A3978>, 'readers are encouraged to write to the magazines editors with their own tales which if published will garner ratings on an editorial scale.': <gensim.models.keyedvectors.Vocab object at 0x000001F40B7A39B0>, 'ym rates its readers tales with a system of stars a singlestar rating translates to a sympathetic glad it didnt happen to me a fourstar humiliation offers the advice better switch school districts.': <gensim.models.keyedvectors.Vocab object at 0x000001F40B7A39E8>, 'teen magazine utilizes a rating system based on flames oneflame stories are considered less embarrassing than stories rated with four flames.': <gensim.models.keyedvectors.Vocab object at 0x000001F40B7A3A20>, 'seventeen uses a threetiered rating scale and offers a sarcastic one or two sentence commentary on each anecdote.': <gensim.models.keyedvectors.Vocab object at 0x000001F40B7A3A58>, 'although the submitted tales are supposedly the work of magazine readers the jargon and tone of the stories themselves belie either a strict reader adherence to the slang and writing style of the magazine or heavy editing.': <gensim.models.keyedvectors.Vocab object at 0x000001F40B7A3A90>, 'the anecdotes may reference certain popular teen styles by designer name or use teenspecific shorthand like b.f. for best friend or b.f.f.': <gensim.models.keyedvectors.Vocab object at 0x000001F40B7A3AC8>, 'for best female friend to create a tone of inclusion.as with the editors letter the embarrassing stories column utilizes developmentally appropriate text and mimics an interaction between the reader and the publication to encourage readership.': <gensim.models.keyedvectors.Vocab object at 0x000001F40B7A3B00>, 'the encouragement of submissions as well as the rating of those published writings suggests a real communication between magazine reader and magazine staff.': <gensim.models.keyedvectors.Vocab object at 0x000001F40B7A3B38>, 'the ratings or comments issued by the magazine staff imply an interactive empathy and personal interaction not unlike that created in the editors letter.': <gensim.models.keyedvectors.Vocab object at 0x000001F40B7A3B70>, 'occasional inclusion of celebrity shame and staff humiliations serves to widen the empathetic discursive community created in this column.that the experience of shared humiliation is used in this context to encourage readership may seem to be exemplary of the final exit of good taste within publishing.': <gensim.models.keyedvectors.Vocab object at 0x000001F40B7A3BA8>, 'christopher lasch writes in a  new republic article concerning shame and the creation of a seemingly uncensored media is there anything our culture still attempts to conceal  nothing can shock us anymore least of all intimate revelations about personal life.': <gensim.models.keyedvectors.Vocab object at 0x000001F40B7A3BE0>, 'the mass media do not hesitate to parade the most outlandish perversions the most degraded appetites  p. .': <gensim.models.keyedvectors.Vocab object at 0x000001F40B7A3C18>, 'when reading of a fellow teens traumatic experience involving a leaking maxipad and a lightcolored dress or the humiliation involved in passing loud gas during a silent chemistry test it does seem as if no barriers exist between the personal and the publishable.': <gensim.models.keyedvectors.Vocab object at 0x000001F40B7A3C50>, 'however these texts included in teen magazines and written in a manufactured teen voice are not only developmentally appropriate but also socially instructive.in an overview of the psychological studies related to the emotion of shame thomas j. scheff cites  eliass treatment of shame as the most inclusive.': <gensim.models.keyedvectors.Vocab object at 0x000001F40B7A3C88>, 'according to scheff elias shows that many of the principal sources of shame in modern societies are the body functions ones appearance and ones emotions p.  and that these sources of shame are relatively new.': <gensim.models.keyedvectors.Vocab object at 0x000001F40B7A3CC0>, 'elias shows how shame was being used to socialize feelings about sexuality etiquette and emotion by the nineteenth century  p. .': <gensim.models.keyedvectors.Vocab object at 0x000001F40B7A3CF8>, 'these sources of humiliation still make up the landscape of embarrassment described in the teen texts.': <gensim.models.keyedvectors.Vocab object at 0x000001F40B7A3D30>, 'when examining the experiences catalogued in teen tales of embarrassment these circumstances are very often mined for humiliating content.in an analysis of six months of embarrassing stories content published in  in three leading teen magazinesteen seventeen and ym all of which were located in a noncirculating collection in my local librarya number of thematic consistencies became visible.': <gensim.models.keyedvectors.Vocab object at 0x000001F40B7A3D68>, 'within each collection scenarios related to teen social encounters rule breaking and physical control showcased teen and often gender specific landscapes as potential etiquette minefields.': <gensim.models.keyedvectors.Vocab object at 0x000001F40B7A3DA0>, 'the subjects of these stories were coded with the following thematic titles showing too much interest in a boy amorous errors accidental nudity partial or complete underwear mention of or view unworn menstrual period including the surprise onset of a menstrual period or the view by others of any feminine hygiene product beauty blunders clothes hair or makeup mistakes noticed by and remarked upon by others showing off accidents that occur when the narrator is vying for attention clumsiness stood up by date bathroomexcrement related caught making out caught breaking rules including school rules or household rules general etiquette and other various errors.': <gensim.models.keyedvectors.Vocab object at 0x000001F40B7A3DD8>, 'while some of the incidents described in the texts illustrate deviance from generally socially understood mores general etiquette caught breaking rules the chronicling of the other less universally understood scenarios serve to as scheff writes socialize feeling about sexuality etiquette and emotion specific to the behavior of adolescent girls.': <gensim.models.keyedvectors.Vocab object at 0x000001F40B7A3E10>, 'clearly teenaged girls caught out of control making out with a partner showing off to attract attention applying makeup with a heavy or an uneducated hand risk embarrassment and social alienation.': <gensim.models.keyedvectors.Vocab object at 0x000001F40B7A3E48>, 'the teenaged reader made aware of the risks of certain behaviors in certain scenarios can by studying these columns develop a literal vocabulary of humiliation while absorbing subtextual societal rules.the data included in the figures attached to this research are indicative of an initial and individual reading of the collected embarrassing stories.': <gensim.models.keyedvectors.Vocab object at 0x000001F40B7A3E80>, 'verification of these findings occurred later and involved the rereading of the texts by the primary investigator and the reading and evaluation of the texts by a secondary reader.': <gensim.models.keyedvectors.Vocab object at 0x000001F40B7A3EB8>, 'in the reading process each reader was asked to code the embarrassing stories in terms of their aboutness and based on a list of subject headings created for this purpose.': <gensim.models.keyedvectors.Vocab object at 0x000001F40B7A3EF0>, 'the aboutness or the subject of each anecdote was to be considered the thing afforded matter or action of a specified kind a ground motive or cause from the oxford english dictionarys definition of subject.': <gensim.models.keyedvectors.Vocab object at 0x000001F40B7A3F28>, 'that is though the general theme of all the narratives was embarrassment or embarrassing stories the subject selections reference the potential causes of the humiliations described.by tabulating the occurrences of agreement among readers of aboutness a measure of cohens kappa used as an index of interrater reliability was computed.': <gensim.models.keyedvectors.Vocab object at 0x000001F40B7A3F60>, 'the initial measurement of kappa was insignificant where satisfactory reliability is said to occur with a measurement of .': <gensim.models.keyedvectors.Vocab object at 0x000001F40B7A3F98>, 'the findings here were only reliable at .. further examination of the data showed that the significanceaffecting disagreement between readers regarded distinguishing the differences between embarrassing events occurring as a result of general clumsiness or as a result of accidents occurring while the narrator was showing off.': <gensim.models.keyedvectors.Vocab object at 0x000001F40B7A3FD0>, 'a hypothetical merging of this data into a single category increased the measurement of kappa past the significant mark.': <gensim.models.keyedvectors.Vocab object at 0x000001F40B7A2048>, 'the lack of terminological clarity that seemed to have negatively affected the reliability measurement may be considered a methodological error stricter adherence to the codes of scientific content analysis in an iteration of this examination may allow for more reliable and conclusive statistical data.': <gensim.models.keyedvectors.Vocab object at 0x000001F40B7A2080>, 'additional numeric inconclusiveness may have been a result of the gender of the readers.': <gensim.models.keyedvectors.Vocab object at 0x000001F40B7A20B8>, 'a comparison of the subject assignments of a body of male readers and a body of female readers may address the issue of the gendered nature of the texts and the meaning making implications of such a finding.within the narratives certain phrases were used with frequency to emphasize the dire nature of the embarrassing situation and to heighten the humiliation stakes.': <gensim.models.keyedvectors.Vocab object at 0x000001F40B7A20F0>, 'according to these anecdotes often the embarrassing act is a secondary source of unease the audience of the act can determine the level of shame conveyed in the text.': <gensim.models.keyedvectors.Vocab object at 0x000001F40B7A2128>, 'any embarrassment witnessed by the entire school or entire grade performed before the most popular boy girl or clique or meant to impress the bestlooking or hottest teacher or boy was almost certain to rate higher on the humiliation scale than lowerstakes scenarios.': <gensim.models.keyedvectors.Vocab object at 0x000001F40B7A2160>, 'in these anecdotes embarrassment was not necessarily selfdetermined the level of shame was a product of the status of the watchers.': <gensim.models.keyedvectors.Vocab object at 0x000001F40B7A2198>, 'this observation is notable both on a discursive and societal level.': <gensim.models.keyedvectors.Vocab object at 0x000001F40B7A21D0>, 'the drama of the setup for the embarrassing story is heightened by the description of the highstakes audience involved.': <gensim.models.keyedvectors.Vocab object at 0x000001F40B7A2208>, 'that the narrators social standing may be in the balance makes the experience of reading the tale all the more delicious.': <gensim.models.keyedvectors.Vocab object at 0x000001F40B7A2240>, 'additionally a reader may absorb the implication that she as a female as a character secondary to the popular clique or the bestlooking boy will consistently occupy the object position in both the reallife tale and in her own life.': <gensim.models.keyedvectors.Vocab object at 0x000001F40B7A2278>, 'the internalization of the concept of the self as secondary of womanhood as a performance may be a byproduct of these intentionally sympathetic stories.the embarrassing stories content in teen magazines utilize a specific vocabulary of foreshadowing frequent readers of these columns may become adept at interpreting the magazines unique code of prescience.': <gensim.models.keyedvectors.Vocab object at 0x000001F40B7A22B0>, 'louise rosenblatt writes that a reader brings her own experiences to a text and that these experiences shape the reading of a work for an individual.': <gensim.models.keyedvectors.Vocab object at 0x000001F40B7A22E8>, 'these experiences may include knowledge of another language situational experiences similar to the conflicts portrayed in the literature or exposure to specific cultural symbols and mores.': <gensim.models.keyedvectors.Vocab object at 0x000001F40B7A2320>, 'rosenblatt writes that the words on the page encourage the reader to draw on his past experiences with what the words point to in life and literature.': <gensim.models.keyedvectors.Vocab object at 0x000001F40B7A2358>, 'the text presents these words in a new and unique pattern.': <gensim.models.keyedvectors.Vocab object at 0x000001F40B7A2390>, 'out of these he is enabled actually to mold a new experience the literary work  p. .': <gensim.models.keyedvectors.Vocab object at 0x000001F40B7A23C8>, 'in the case of adolescent magazines embarrassing stories a specific language of prediction is honed as readers accumulate experiences with a text.the acquisition of an embarrassing stories vocabulary becomes part of what rosenblatt would deem a literary experience the readers fluency in this vocabulary will inform her reading of the stories themselves.': <gensim.models.keyedvectors.Vocab object at 0x000001F40B7A2400>, 'for example often in the tales of menstrual mistakes the mention of a white dress worn by the protagonist hints at a forthcoming menstrual disaster.': <gensim.models.keyedvectors.Vocab object at 0x000001F40B7A2438>, 'that a ruined white or lightcolored dress or outfit becomes code for the ultimate menstrual mistake is of special note the evidence of womanhood itself as displayed in a clothing stain is an ironic and distinctly genderspecific source of embarrassment to portray in a teenage girls magazine.': <gensim.models.keyedvectors.Vocab object at 0x000001F40B7A2470>, 'that the merest hint of a girls menstrual period is the source of embarrassment is evidenced in the tales involving the accidental sighting of wrapped tampons or the purchase of feminine hygiene items.': <gensim.models.keyedvectors.Vocab object at 0x000001F40B7A24A8>, 'additional harbingers of doom include the mention of special attention paid to appearancehair clothes and makeupin anticipation of a particular often romantic encounter these best laid plans can fail when a newly laundered outfit attracts a pair of staticy underpants a trendy pair of jeans gets wet and bleeds dye on the wearer or a tight pair of pants splits as the wearer bends over to attract a male.the cultivation of a specific vocabulary of suspense and foreshadowing that is granted meaning from the context in which it is situated is a phenomenon present here and described in readerresponse theory.': <gensim.models.keyedvectors.Vocab object at 0x000001F40B7A24E0>, 'following rosenblatt we can hypothesize that the readers past experiences with reading similarly themed tales allow her to predict the scenario of humiliation explicated in each embarrassing text.': <gensim.models.keyedvectors.Vocab object at 0x000001F40B7A2518>, 'this predictability grants a certain power to the experienced reader that is unavailable to the stories narrators while the narrator of an embarrassing story fails to anticipate the humiliation to come the readerfluent in the language of the texthas likely foreseen the embarrassment described later.': <gensim.models.keyedvectors.Vocab object at 0x000001F40B7A2550>, 'this foresight is a predictive gift cultivated by the reader as she reads one that bestows on her a certain prescient textual power.': <gensim.models.keyedvectors.Vocab object at 0x000001F40B7A2588>, 'the reallife application of this reading is less agential with the literal narrative absent in her living world the teen reader learns to edit her own movements in anticipation and avoidance of the outcomes described in the embarrassing stories.although the embarrassing stories can be categorized by subject or anecdote see table  a less granular approach to analysis reveals three primary themes discussed throughout the columns behavior with boys body function and intimate exposure.': <gensim.models.keyedvectors.Vocab object at 0x000001F40B7A25C0>, 'behavior with boys is discussed and analyzed at length in these columns heterosexual relations are characterized as fraught with potential hazards.': <gensim.models.keyedvectors.Vocab object at 0x000001F40B7A25F8>, 'embarrassing anecdotes of amorous errors include in an issue of seventeen a tale of a weldedtogether pair whose braces and lip jewelry linked together nearly inextricably.': <gensim.models.keyedvectors.Vocab object at 0x000001F40B7A2630>, 'getting caught in a clinch by parents brothers and sisters or teachers is the source of much humiliation as is showing too much interest in a member of the opposite sex.': <gensim.models.keyedvectors.Vocab object at 0x000001F40B7A2668>, 'stories dealing with the functions of the body centered mainly around menstrual period disasters with ym devoting an entire months column to menstrual stories.': <gensim.models.keyedvectors.Vocab object at 0x000001F40B7A26A0>, 'stories falling under the intimate exposure category include both accidental nudity and the exposure of or mention of a narrators underwear.': <gensim.models.keyedvectors.Vocab object at 0x000001F40B7A26D8>, 'the mere mention of or glimpse of the underwear proved embarrassing even if the underwear was unworn that is viewed in a drawer or backpack.': <gensim.models.keyedvectors.Vocab object at 0x000001F40B7A2710>, 'these three general categories can be easily mapped onto eliass per scheff primary sources of shame the body functions mapped to body functions ones appearance mapped to intimate exposure and ones emotions mapped to amorous errors.': <gensim.models.keyedvectors.Vocab object at 0x000001F40B7A2748>, 'while scheff and elias may argue that their thematic categories are universal as the categories are recalled in the pages of adolescent girls magazines their treatment becomes distinctly gendered.': <gensim.models.keyedvectors.Vocab object at 0x000001F40B7A2780>, 'see tables  and .tableembarrassing incidentsembarrassing actoccurrences ymoccurrences seventeenoccurrences teennnnshowing too much interest in a boy...amorous errors..accidental nudity partial or complete.underwear mention of or view unworn..menstrual period..beauty blunders clothes hair or makeup...showing off...clumsiness..stood up by date..bathroomexcrement related..caught making out..caught breaking rules..general etiquette...other...totaltablecontent analysis statistics of subject heading assignment agreementa aefcohens kym..teen..seventeen..total...statistically significant at the .': <gensim.models.keyedvectors.Vocab object at 0x000001F40B7A27B8>, 'level.tablethematic categorization of embarrassing storiesthematic categoryymseventeenteennnnbehavior with boys too much interest amorous errors caught making out stood up for date..body function menstrual mistakes excrement etc..intimate exposure accidental nudity underwear exposed..other...statistically significant at the .': <gensim.models.keyedvectors.Vocab object at 0x000001F40B7A27F0>, 'level.approximately half of the scenarios described in ym and seventeen involved some kind of social or corporeal control.': <gensim.models.keyedvectors.Vocab object at 0x000001F40B7A2828>, 'the reader learning from and laughing with these texts may absorb the socializing shorthand present beneath the text.': <gensim.models.keyedvectors.Vocab object at 0x000001F40B7A2860>, 'if feminine success is measured by the avoidance of humiliations as great as those published the social lessons taught in the magazines columns involve decreasing participation in events that could lead to the outcomes depicted.': <gensim.models.keyedvectors.Vocab object at 0x000001F40B7A2898>, 'a certain social paranoia may emerge in the reader who absorbs the identity of the watchful woman who must be ever vigilant guarding her intimate apparel from view avoiding revealing clothing and maintaining the secrecy surrounding menstruation or any bodily function.': <gensim.models.keyedvectors.Vocab object at 0x000001F40B7A28D0>, 'luise eichenbaum and susie orbach identified these ideas of selfdenial and feminine presentation in their  book understanding women a feminist psychoanalytic approach.': <gensim.models.keyedvectors.Vocab object at 0x000001F40B7A2908>, 'according to eichenbaum and orbach the exhibition of the edited self is learned in childhood observation the little girl absorbs the idea that to get love and approval she must show a particular side of herself.': <gensim.models.keyedvectors.Vocab object at 0x000001F40B7A2940>, 'she must hide her emotional cravings her disappointments and her angers.': <gensim.models.keyedvectors.Vocab object at 0x000001F40B7A2978>, 'she must hide her self.': <gensim.models.keyedvectors.Vocab object at 0x000001F40B7A29B0>, 'she comes to feel that there must be something wrong with who she really is which in turn must mean there is something wrong with what she needs and what she wants  p. .the teen magazine may further this concept with its embarrassing stories based on their exploitation of social donts the female reader may learn to associate some of her natural inclinations menstruation sexuality with inappropriateness.': <gensim.models.keyedvectors.Vocab object at 0x000001F40B7A29E8>, 'the irreverent and genuinely humorous content of these columns of embarrassing stories attracts readers while the use of developmentally appropriate language and topical subject matter furthers an agenda of social control.the eventual outcome of the internalization of these rules may already have been predicted by eichenbaum and orbach slowly the girl develops an acceptable self one that appears selfsufficient and capable and will receive more consistent acceptance  p. .': <gensim.models.keyedvectors.Vocab object at 0x000001F40B7A2A20>, 'taylor l. a teen writing of a regifting humiliation for teens embarrassing stories page illustrates the discomfort resulting from the false fronting i pretended to laugh with the other students laughing at me but deep down i felt like barfing.although teen magazines may be seen as gross influences on girls identity development it is important to theorize the effects of the discourse and to examine how readers of these magazines navigate the text.': <gensim.models.keyedvectors.Vocab object at 0x000001F40B7A2A58>, 'readerresponse theorist arthur applebee links readers responses to text to development mainly following piagets theorized stages of development.': <gensim.models.keyedvectors.Vocab object at 0x000001F40B7A2A90>, 'during adolescence the resources of formal operations have a dramatic effect on the childs response to literature theorizes applebee  p. .': <gensim.models.keyedvectors.Vocab object at 0x000001F40B7A2AC8>, 'as readers mature their ability to relate to and draw conclusions from a text increases in scope and complexity.': <gensim.models.keyedvectors.Vocab object at 0x000001F40B7A2B00>, 'applebee claims that as readers enter the initial stages of formal operations their ability to analyze a text in terms of their own experiences is developed.': <gensim.models.keyedvectors.Vocab object at 0x000001F40B7A2B38>, 'this onetoone relationship between reader experience and text is complicated as the reader reaches the later stage of formal operations and begins to see the text as one of many statements of how life might be understood rather than simply a presentation of life as it is  p. .': <gensim.models.keyedvectors.Vocab object at 0x000001F40B7A2B70>, 'the initial period of text relation begins around age  or coincidentally in the continuum of most teen magazines target marketsand grows in analytic complexity around age .': <gensim.models.keyedvectors.Vocab object at 0x000001F40B7A2BA8>, 'here we may see the window of time marked by personal relation to textpiagets initial stage of formal operations and applebees early stage of analytic abilitya unique period of vulnerability to developmental influence through text.developmentalists psychologists and even readerresponse theorists characterize the period of adolescence as a period of shifting paradigms.': <gensim.models.keyedvectors.Vocab object at 0x000001F40B7A2BE0>, 'erikson writes of the painful selfawareness of the teen years and the struggle to attach to a frame of reference outside the self on which to build identity.': <gensim.models.keyedvectors.Vocab object at 0x000001F40B7A2C18>, 'piaget associates adolescence with the increasing ability to perform complex tasks while applebee applies this cognitive growth to literacy and the experience of reading.': <gensim.models.keyedvectors.Vocab object at 0x000001F40B7A2C50>, 'teen magazines constructed with this convoluted time of physical and cognitive development in mind do answer the needs of adolescent readers.': <gensim.models.keyedvectors.Vocab object at 0x000001F40B7A2C88>, 'by providing a framework for identity growth supplying images of societal perfection and taking advantage of the onetoone relationship that can be forged between reader and text magazines for teenagers as well as those for adults effectively guide identity development.': <gensim.models.keyedvectors.Vocab object at 0x000001F40B7A2CC0>, 'the narrowness of this identity framework as well as the normalcy promised if the guidelines described in the magazines are followed is a source of critique identified by driscoll through a cult of normality and an eroticisation of the adolescent womans concern with normalizing her body the feminine adolescent body is constructed in girls magazines as a range of desires trespassed upon by a variety of physiological imperfections  p. .': <gensim.models.keyedvectors.Vocab object at 0x000001F40B7A2CF8>, 'clearly driscoll and others acknowledge the successfulness of these publications in defining the parameters of identity and encouraging the marketing of these identities to teenaged readers.': <gensim.models.keyedvectors.Vocab object at 0x000001F40B7A2D30>, 'the effectiveness of these magazines to shape the identities of readers is rarely called into question on the contrary it is the shape of the identities the publications advocate that is more often argued.after reading earnest letters from the editors of teen magazines to the thousands of readers who purchase the publication each month it becomes difficult to situate the friendly and helpful intent of the magazine staff within a greater context of capitalism and accusations of exploitation.': <gensim.models.keyedvectors.Vocab object at 0x000001F40B7A2D68>, 'joy leman reminds us that the incantations of false intimacy are foregroundeda discourse of friendliness reassuring and relocating women in an idea of oppression and a position of exploitation are present in every issue  p. .': <gensim.models.keyedvectors.Vocab object at 0x000001F40B7A2DA0>, 'indeed according to leman the developmental needs of girls can be manipulated to serve the status quo and to maintain the profit motivations that sustain girls monthlies.': <gensim.models.keyedvectors.Vocab object at 0x000001F40B7A2DD8>, 'in a power relationship mirroring capitalism the teen magazine creates its own audience and thus its own sustenance.': <gensim.models.keyedvectors.Vocab object at 0x000001F40B7A2E10>, 'as ideals are marketed and branded within the glossy pages advertisers pay to incorporate themselves within the identity for sale.': <gensim.models.keyedvectors.Vocab object at 0x000001F40B7A2E48>, 'according to ross ballaster and colleagues the use of a feminine discourse the manipulation and creation of gendered needs answered by advertised products and the construction of the female reader as consumer is intrinsic to the survival of the magazines and the market that supports them.': <gensim.models.keyedvectors.Vocab object at 0x000001F40B7A2E80>, 'defining women as not men  is evidently not a sufficient one for the womens magazine reports ballaster in a  analysis of womens publications.': <gensim.models.keyedvectors.Vocab object at 0x000001F40B7A2EB8>, 'if women are to buy and to be they cannot be defined solely in the negative femininity has to be given a particular content  p. .': <gensim.models.keyedvectors.Vocab object at 0x000001F40B7A2EF0>, 'here femininity is advertised as a shifting product an identity dependent on the consumption of goods or the application of products.': <gensim.models.keyedvectors.Vocab object at 0x000001F40B7A2F28>, 'more important this advertising is displayed in a uniquely feminine space erikson where as ballaster writes women are more than just not men.because of the developmental appropriateness of teen magazines their influence on identity development has the potential to be great.': <gensim.models.keyedvectors.Vocab object at 0x000001F40B7A2F60>, 'however opponents of the magazine argue that the identities illustrated between the pagesgirlfriend model student woman sexual beingare often considered insignificant weak or even degrading.': <gensim.models.keyedvectors.Vocab object at 0x000001F40B7A2F98>, 'this weakness is an illusion founded on a history marked by the limited documentation of the participation of women in socalled relevant historical activity.': <gensim.models.keyedvectors.Vocab object at 0x000001F40B7A2FD0>, 'the identity historically accepted by womenincluding the feminine virtues of passive goodness personal service to others and devotion to the domestic sphere  p. has been limited not just by a conspiracy of patriarchy but by every woman who blindly accepts the supposed weakness associated with this identity.': <gensim.models.keyedvectors.Vocab object at 0x000001F40B7A8048>, 'by escaping the idea of the female as notmale and associating femaleness with pleasure and attractiveness  p.  as young girls did in an iteration of eriksons study a uniquely feminine power may be cultivated.': <gensim.models.keyedvectors.Vocab object at 0x000001F40B7A8080>, 'furthermore perhaps the perception of weakness or insignificant success lies in the frame we draw around womens accomplishments and identities.': <gensim.models.keyedvectors.Vocab object at 0x000001F40B7A80B8>, 'the female space women create and celebrate is markedly different from the male power symbol and cannot be evaluated in the same way.': <gensim.models.keyedvectors.Vocab object at 0x000001F40B7A80F0>, 'recognizing the strength in both models of power and identity may be the first step toward a goal of parity and a loosening of societal restraints binding womens identities.while some teen magazines may be dismissed as fluff by teachers and librarians researchers examining the practice of literacy remark on the agency associated with reading popular texts.': <gensim.models.keyedvectors.Vocab object at 0x000001F40B7A8128>, 'meredith cherland in an examination of girls reading practices in a canadian elementary and junior high school encourages us to view the popular reading of teenage girls outside of school assignments as recursive.': <gensim.models.keyedvectors.Vocab object at 0x000001F40B7A8160>, 'cherland drawing from giroux writes that girls popular reading goes against the hidden curriculum present in many schools that would equate the male experience  with human experience.': <gensim.models.keyedvectors.Vocab object at 0x000001F40B7A8198>, 'literature assigned in the school cherland observed  served on the one hand to validate only mans experience of the world and on the other hand to position female people as outsiders  p. .': <gensim.models.keyedvectors.Vocab object at 0x000001F40B7A81D0>, 'the girls cherland observed turned to what some many consider gendered readings including the babysitters club and sweet valley high series to supplement the literature offered in school.': <gensim.models.keyedvectors.Vocab object at 0x000001F40B7A8208>, 'this practice turn toward the reading of scholastically antithetical texts is labeled the literate underlife by finders .': <gensim.models.keyedvectors.Vocab object at 0x000001F40B7A8240>, 'finders writes of the agency of girls who read against the masculine grain of assigned fiction and who practice literacy in subversive ways by writing graffiti passing and reading notes and reading adolescent magazines and popular fiction literate underlife created opportunities to disrupt the official to document a refusal to embrace the obligations of the institution  p. .': <gensim.models.keyedvectors.Vocab object at 0x000001F40B7A8278>, 'thus the action of reading in opposition to teacherprescribed norms becomes in the eyes of cherland and finders an act of rebellion.while the act of subversive reading may be a revolutionary one theorists note that female readers actively negotiate the content of what some consider to be repressive and gendered texts as well.': <gensim.models.keyedvectors.Vocab object at 0x000001F40B7A82B0>, 'in sherrie innesss collection of essays delinquents and debutantes twentieth century american girls cultures a number of the writers note the tendency of readers to develop strategies for reading popular texts.': <gensim.models.keyedvectors.Vocab object at 0x000001F40B7A82E8>, 'angela hubler writing of girls reading practices notes girl readers commonly focused on aspects of texts that confirmed female behavior they found desirable while ignoring or forgetting aspects that undermined these behaviors and she concludes it is clear that girls are not blank slates that unthinkingly reproduce the ideological messages written upon them  p. .': <gensim.models.keyedvectors.Vocab object at 0x000001F40B7A8320>, 'cherland echoes this observation writing the thoughts and emotions of the individual girlstheir sense of themselves and their ways of understanding their relation to the world are constituted as a dynamic process.': <gensim.models.keyedvectors.Vocab object at 0x000001F40B7A8358>, 'each girl reader also creates and practices individual forms of resistance to these broad cultural forms  p. .': <gensim.models.keyedvectors.Vocab object at 0x000001F40B7A8390>, 'there is a certain dynamism that occurs when girls read literature and texts created just for them clearly adolescent girl readers are engaged in a dialogue with the text not unlike the transaction suggested by rosenblatt.': <gensim.models.keyedvectors.Vocab object at 0x000001F40B7A83C8>, 'while experience with a certain genre or texttype has the potential to inform the future reading of similarly themed materials the ultimate product of girls reading is the result of a number of textual and extratextual influences e.g.': <gensim.models.keyedvectors.Vocab object at 0x000001F40B7A8400>, 'cherlands thoughts and emotions of  individual girls.the practitioners dilemma in selecting these magazines for a school or public library collection arises as she weighs the consequences of supporting what lehman and others deem the capitalist patriarchy that supports the publications themselves against the potential benefits associated with encouraging a literate underlife.': <gensim.models.keyedvectors.Vocab object at 0x000001F40B7A8438>, 'if as cherland maintains the public school curriculum confers male privilege via the assignment of masculine texts the inclusion of feminized textslike the teen magazinesin a school librarys collection might serve to bring female readers to voice.': <gensim.models.keyedvectors.Vocab object at 0x000001F40B7A8470>, 'operating under the assumption that girl readers are not passive consumers we might discover that the girls reactions to and negotiations with these popular texts hone their critical literacy.': <gensim.models.keyedvectors.Vocab object at 0x000001F40B7A84A8>, 'moreover the greater availability of these magazines in schools and public libraries may foil the capitalist mechanism that supports their existence as fewer girls purchase in book and drug stores what they might read gratis during lunch period with a group of friends in the library.teen magazines are powerful purveyors of image and identity.': <gensim.models.keyedvectors.Vocab object at 0x000001F40B7A84E0>, 'a cover spot on a hot teen magazine may guarantee a rising star success as well as boost sales of the publication.': <gensim.models.keyedvectors.Vocab object at 0x000001F40B7A8518>, 'it is the inherent power relationshipbetween the teenage feminine interest identity development popular culture relationship navigation and the interests of the advertising agencies that influence magazine contentthat is at the crux of the controversy surrounding the influence of teen magazines on their readers.': <gensim.models.keyedvectors.Vocab object at 0x000001F40B7A8550>, 'the tone of intimacy and the creation of a feminine space between the pages of the publications mirror a selfawareness intrinsic in adolescent development.': <gensim.models.keyedvectors.Vocab object at 0x000001F40B7A8588>, 'to begin reading a girls teen magazine is to enter a world of selfinterest a uniquely feminine world concerned with not only appearance but also bodily function and interpersonal relationships.': <gensim.models.keyedvectors.Vocab object at 0x000001F40B7A85C0>, 'ironically or perhaps appropriately it is the towering influence of the capital driving the publication of such magazines that sours the experience.': <gensim.models.keyedvectors.Vocab object at 0x000001F40B7A85F8>, 'the inner space created within the magazine is tainted by the pervasive advertising content the princess is despoiled but by the grace of the grounded reader maintains hope for rebirth.': <gensim.models.keyedvectors.Vocab object at 0x000001F40B7A8630>}\n"
     ]
    }
   ],
   "source": [
    "print(model)\n",
    "print(model.wv.vocab)"
   ]
  },
  {
   "cell_type": "markdown",
   "metadata": {},
   "source": [
    "## Set file names for train and test data"
   ]
  },
  {
   "cell_type": "code",
   "execution_count": 46,
   "metadata": {},
   "outputs": [],
   "source": [
    "test_data_dir = '{}'.format(os.sep).join([gensim.__path__[0], 'test', 'test_data']) + os.sep\n",
    "lee_train_file = test_data_dir + 'lee_background.cor'"
   ]
  },
  {
   "cell_type": "code",
   "execution_count": 47,
   "metadata": {},
   "outputs": [
    {
     "name": "stdout",
     "output_type": "stream",
     "text": [
      "[['first', 'sentence'], ['second', 'sentence']]\n"
     ]
    }
   ],
   "source": [
    "class MyText(object):\n",
    "    def __iter__(self):\n",
    "        for line in open(lee_train_file):\n",
    "            # assume there's one document per line, tokens separated by whitespace\n",
    "            yield line.lower().split()\n",
    "\n",
    "list_sentlist = MyText()\n",
    "\n",
    "print(sentences)"
   ]
  },
  {
   "cell_type": "markdown",
   "metadata": {},
   "source": [
    "## Training the model"
   ]
  },
  {
   "cell_type": "markdown",
   "metadata": {},
   "source": [
    "### min_count is for pruning the internal dictionary. Words that appear only once or twice in a large corpus are probably uninteresting typos and garbage. In addition, there’s not enough data to make any meaningful training on those words, so it’s best to ignore them."
   ]
  },
  {
   "cell_type": "code",
   "execution_count": 48,
   "metadata": {
    "scrolled": true
   },
   "outputs": [
    {
     "name": "stderr",
     "output_type": "stream",
     "text": [
      "2019-10-07 18:51:28,336 : INFO : collecting all words and their counts\n",
      "2019-10-07 18:51:28,340 : INFO : PROGRESS: at sentence #0, processed 0 words, keeping 0 word types\n",
      "2019-10-07 18:51:28,365 : INFO : collected 10186 word types from a corpus of 59890 raw words and 300 sentences\n",
      "2019-10-07 18:51:28,366 : INFO : Loading a fresh vocabulary\n",
      "2019-10-07 18:51:28,371 : INFO : effective_min_count=10 retains 806 unique words (7% of original 10186, drops 9380)\n",
      "2019-10-07 18:51:28,372 : INFO : effective_min_count=10 leaves 40964 word corpus (68% of original 59890, drops 18926)\n",
      "2019-10-07 18:51:28,376 : INFO : deleting the raw counts dictionary of 10186 items\n",
      "2019-10-07 18:51:28,377 : INFO : sample=0.001 downsamples 54 most-common words\n",
      "2019-10-07 18:51:28,377 : INFO : downsampling leaves estimated 26224 word corpus (64.0% of prior 40964)\n",
      "2019-10-07 18:51:28,380 : INFO : estimated required memory for 806 words and 100 dimensions: 1047800 bytes\n",
      "2019-10-07 18:51:28,381 : INFO : resetting layer weights\n",
      "2019-10-07 18:51:28,394 : INFO : training model with 3 workers on 806 vocabulary and 100 features, using sg=0 hs=0 sample=0.001 negative=5 window=5\n",
      "2019-10-07 18:51:28,425 : INFO : worker thread finished; awaiting finish of 2 more threads\n",
      "2019-10-07 18:51:28,429 : INFO : worker thread finished; awaiting finish of 1 more threads\n",
      "2019-10-07 18:51:28,433 : INFO : worker thread finished; awaiting finish of 0 more threads\n",
      "2019-10-07 18:51:28,434 : INFO : EPOCH - 1 : training on 59890 raw words (26155 effective words) took 0.0s, 723199 effective words/s\n",
      "2019-10-07 18:51:28,470 : INFO : worker thread finished; awaiting finish of 2 more threads\n",
      "2019-10-07 18:51:28,476 : INFO : worker thread finished; awaiting finish of 1 more threads\n",
      "2019-10-07 18:51:28,477 : INFO : worker thread finished; awaiting finish of 0 more threads\n",
      "2019-10-07 18:51:28,478 : INFO : EPOCH - 2 : training on 59890 raw words (26196 effective words) took 0.0s, 635434 effective words/s\n",
      "2019-10-07 18:51:28,512 : INFO : worker thread finished; awaiting finish of 2 more threads\n",
      "2019-10-07 18:51:28,515 : INFO : worker thread finished; awaiting finish of 1 more threads\n",
      "2019-10-07 18:51:28,519 : INFO : worker thread finished; awaiting finish of 0 more threads\n",
      "2019-10-07 18:51:28,521 : INFO : EPOCH - 3 : training on 59890 raw words (26183 effective words) took 0.0s, 681571 effective words/s\n",
      "2019-10-07 18:51:28,553 : INFO : worker thread finished; awaiting finish of 2 more threads\n",
      "2019-10-07 18:51:28,558 : INFO : worker thread finished; awaiting finish of 1 more threads\n",
      "2019-10-07 18:51:28,562 : INFO : worker thread finished; awaiting finish of 0 more threads\n",
      "2019-10-07 18:51:28,563 : INFO : EPOCH - 4 : training on 59890 raw words (26261 effective words) took 0.0s, 675489 effective words/s\n",
      "2019-10-07 18:51:28,602 : INFO : worker thread finished; awaiting finish of 2 more threads\n",
      "2019-10-07 18:51:28,603 : INFO : worker thread finished; awaiting finish of 1 more threads\n",
      "2019-10-07 18:51:28,608 : INFO : worker thread finished; awaiting finish of 0 more threads\n",
      "2019-10-07 18:51:28,610 : INFO : EPOCH - 5 : training on 59890 raw words (26179 effective words) took 0.0s, 584016 effective words/s\n",
      "2019-10-07 18:51:28,612 : INFO : training on a 299450 raw words (130974 effective words) took 0.2s, 604193 effective words/s\n"
     ]
    }
   ],
   "source": [
    "model = gensim.models.Word2Vec(list_sentlist, min_count=10)"
   ]
  },
  {
   "cell_type": "markdown",
   "metadata": {},
   "source": [
    "## Saving and opening the models"
   ]
  },
  {
   "cell_type": "code",
   "execution_count": 49,
   "metadata": {},
   "outputs": [
    {
     "name": "stderr",
     "output_type": "stream",
     "text": [
      "2019-10-07 18:51:28,623 : INFO : saving Word2Vec object under C:\\Users\\knolin\\AppData\\Local\\Temp\\tmpjt17ystngensim_temp, separately None\n",
      "2019-10-07 18:51:28,625 : INFO : not storing attribute vectors_norm\n",
      "2019-10-07 18:51:28,627 : INFO : not storing attribute cum_table\n",
      "2019-10-07 18:51:28,636 : INFO : saved C:\\Users\\knolin\\AppData\\Local\\Temp\\tmpjt17ystngensim_temp\n"
     ]
    }
   ],
   "source": [
    "from tempfile import mkstemp\n",
    "\n",
    "fs, temp_path = mkstemp(\"gensim_temp\")  # creates a temp file\n",
    "\n",
    "model.save(temp_path)  # save the model"
   ]
  },
  {
   "cell_type": "code",
   "execution_count": 50,
   "metadata": {},
   "outputs": [],
   "source": [
    "# open the model\n",
    "# new_model = gensim.models.Word2Vec.load(temp_path)  "
   ]
  },
  {
   "cell_type": "markdown",
   "metadata": {},
   "source": [
    "## Additional training"
   ]
  },
  {
   "cell_type": "code",
   "execution_count": 51,
   "metadata": {},
   "outputs": [
    {
     "name": "stderr",
     "output_type": "stream",
     "text": [
      "2019-10-07 18:51:28,649 : INFO : collecting all words and their counts\n",
      "2019-10-07 18:51:28,651 : INFO : PROGRESS: at sentence #0, processed 0 words, keeping 0 word types\n",
      "2019-10-07 18:51:28,677 : INFO : collected 10186 word types from a corpus of 59890 raw words and 300 sentences\n",
      "2019-10-07 18:51:28,678 : INFO : Loading a fresh vocabulary\n",
      "2019-10-07 18:51:28,686 : INFO : effective_min_count=5 retains 1723 unique words (16% of original 10186, drops 8463)\n",
      "2019-10-07 18:51:28,687 : INFO : effective_min_count=5 leaves 46858 word corpus (78% of original 59890, drops 13032)\n",
      "2019-10-07 18:51:28,694 : INFO : deleting the raw counts dictionary of 10186 items\n",
      "2019-10-07 18:51:28,695 : INFO : sample=0.001 downsamples 49 most-common words\n",
      "2019-10-07 18:51:28,696 : INFO : downsampling leaves estimated 32849 word corpus (70.1% of prior 46858)\n",
      "2019-10-07 18:51:28,700 : INFO : estimated required memory for 1723 words and 200 dimensions: 3618300 bytes\n",
      "2019-10-07 18:51:28,701 : INFO : resetting layer weights\n",
      "2019-10-07 18:51:28,730 : INFO : training model with 3 workers on 1723 vocabulary and 200 features, using sg=0 hs=0 sample=0.001 negative=5 window=5\n",
      "2019-10-07 18:51:28,775 : INFO : worker thread finished; awaiting finish of 2 more threads\n",
      "2019-10-07 18:51:28,779 : INFO : worker thread finished; awaiting finish of 1 more threads\n",
      "2019-10-07 18:51:28,782 : INFO : worker thread finished; awaiting finish of 0 more threads\n",
      "2019-10-07 18:51:28,783 : INFO : EPOCH - 1 : training on 59890 raw words (32813 effective words) took 0.1s, 655650 effective words/s\n",
      "2019-10-07 18:51:28,824 : INFO : worker thread finished; awaiting finish of 2 more threads\n",
      "2019-10-07 18:51:28,830 : INFO : worker thread finished; awaiting finish of 1 more threads\n",
      "2019-10-07 18:51:28,838 : INFO : worker thread finished; awaiting finish of 0 more threads\n",
      "2019-10-07 18:51:28,841 : INFO : EPOCH - 2 : training on 59890 raw words (32915 effective words) took 0.1s, 602106 effective words/s\n",
      "2019-10-07 18:51:28,909 : INFO : worker thread finished; awaiting finish of 2 more threads\n",
      "2019-10-07 18:51:28,921 : INFO : worker thread finished; awaiting finish of 1 more threads\n",
      "2019-10-07 18:51:28,929 : INFO : worker thread finished; awaiting finish of 0 more threads\n",
      "2019-10-07 18:51:28,931 : INFO : EPOCH - 3 : training on 59890 raw words (32890 effective words) took 0.1s, 379095 effective words/s\n",
      "2019-10-07 18:51:28,976 : INFO : worker thread finished; awaiting finish of 2 more threads\n",
      "2019-10-07 18:51:28,980 : INFO : worker thread finished; awaiting finish of 1 more threads\n",
      "2019-10-07 18:51:28,987 : INFO : worker thread finished; awaiting finish of 0 more threads\n",
      "2019-10-07 18:51:28,988 : INFO : EPOCH - 4 : training on 59890 raw words (32963 effective words) took 0.1s, 597919 effective words/s\n",
      "2019-10-07 18:51:29,034 : INFO : worker thread finished; awaiting finish of 2 more threads\n",
      "2019-10-07 18:51:29,038 : INFO : worker thread finished; awaiting finish of 1 more threads\n",
      "2019-10-07 18:51:29,041 : INFO : worker thread finished; awaiting finish of 0 more threads\n",
      "2019-10-07 18:51:29,042 : INFO : EPOCH - 5 : training on 59890 raw words (32781 effective words) took 0.1s, 647561 effective words/s\n",
      "2019-10-07 18:51:29,043 : INFO : training on a 299450 raw words (164362 effective words) took 0.3s, 527428 effective words/s\n"
     ]
    }
   ],
   "source": [
    "# training the model\n",
    "model = gensim.models.Word2Vec(list_sentlist, size=200)"
   ]
  },
  {
   "cell_type": "code",
   "execution_count": 52,
   "metadata": {},
   "outputs": [
    {
     "name": "stderr",
     "output_type": "stream",
     "text": [
      "2019-10-07 18:51:29,050 : INFO : collecting all words and their counts\n",
      "2019-10-07 18:51:29,051 : INFO : PROGRESS: at sentence #0, processed 0 words, keeping 0 word types\n",
      "2019-10-07 18:51:29,076 : INFO : collected 10186 word types from a corpus of 59890 raw words and 300 sentences\n",
      "2019-10-07 18:51:29,077 : INFO : Loading a fresh vocabulary\n",
      "2019-10-07 18:51:29,087 : INFO : effective_min_count=5 retains 1723 unique words (16% of original 10186, drops 8463)\n",
      "2019-10-07 18:51:29,087 : INFO : effective_min_count=5 leaves 46858 word corpus (78% of original 59890, drops 13032)\n",
      "2019-10-07 18:51:29,099 : INFO : deleting the raw counts dictionary of 10186 items\n",
      "2019-10-07 18:51:29,100 : INFO : sample=0.001 downsamples 49 most-common words\n",
      "2019-10-07 18:51:29,101 : INFO : downsampling leaves estimated 32849 word corpus (70.1% of prior 46858)\n",
      "2019-10-07 18:51:29,106 : INFO : estimated required memory for 1723 words and 100 dimensions: 2239900 bytes\n",
      "2019-10-07 18:51:29,107 : INFO : resetting layer weights\n",
      "2019-10-07 18:51:29,137 : INFO : training model with 4 workers on 1723 vocabulary and 100 features, using sg=0 hs=0 sample=0.001 negative=5 window=5\n",
      "2019-10-07 18:51:29,186 : INFO : worker thread finished; awaiting finish of 3 more threads\n",
      "2019-10-07 18:51:29,188 : INFO : worker thread finished; awaiting finish of 2 more threads\n",
      "2019-10-07 18:51:29,189 : INFO : worker thread finished; awaiting finish of 1 more threads\n",
      "2019-10-07 18:51:29,198 : INFO : worker thread finished; awaiting finish of 0 more threads\n",
      "2019-10-07 18:51:29,200 : INFO : EPOCH - 1 : training on 59890 raw words (32789 effective words) took 0.1s, 567715 effective words/s\n",
      "2019-10-07 18:51:29,246 : INFO : worker thread finished; awaiting finish of 3 more threads\n",
      "2019-10-07 18:51:29,249 : INFO : worker thread finished; awaiting finish of 2 more threads\n",
      "2019-10-07 18:51:29,256 : INFO : worker thread finished; awaiting finish of 1 more threads\n",
      "2019-10-07 18:51:29,259 : INFO : worker thread finished; awaiting finish of 0 more threads\n",
      "2019-10-07 18:51:29,261 : INFO : EPOCH - 2 : training on 59890 raw words (32750 effective words) took 0.1s, 584092 effective words/s\n",
      "2019-10-07 18:51:29,304 : INFO : worker thread finished; awaiting finish of 3 more threads\n",
      "2019-10-07 18:51:29,305 : INFO : worker thread finished; awaiting finish of 2 more threads\n",
      "2019-10-07 18:51:29,309 : INFO : worker thread finished; awaiting finish of 1 more threads\n",
      "2019-10-07 18:51:29,314 : INFO : worker thread finished; awaiting finish of 0 more threads\n",
      "2019-10-07 18:51:29,316 : INFO : EPOCH - 3 : training on 59890 raw words (32839 effective words) took 0.0s, 657537 effective words/s\n",
      "2019-10-07 18:51:29,354 : INFO : worker thread finished; awaiting finish of 3 more threads\n",
      "2019-10-07 18:51:29,356 : INFO : worker thread finished; awaiting finish of 2 more threads\n",
      "2019-10-07 18:51:29,360 : INFO : worker thread finished; awaiting finish of 1 more threads\n",
      "2019-10-07 18:51:29,366 : INFO : worker thread finished; awaiting finish of 0 more threads\n",
      "2019-10-07 18:51:29,367 : INFO : EPOCH - 4 : training on 59890 raw words (32886 effective words) took 0.0s, 669358 effective words/s\n",
      "2019-10-07 18:51:29,406 : INFO : worker thread finished; awaiting finish of 3 more threads\n",
      "2019-10-07 18:51:29,409 : INFO : worker thread finished; awaiting finish of 2 more threads\n",
      "2019-10-07 18:51:29,413 : INFO : worker thread finished; awaiting finish of 1 more threads\n",
      "2019-10-07 18:51:29,419 : INFO : worker thread finished; awaiting finish of 0 more threads\n",
      "2019-10-07 18:51:29,420 : INFO : EPOCH - 5 : training on 59890 raw words (32796 effective words) took 0.0s, 663638 effective words/s\n",
      "2019-10-07 18:51:29,421 : INFO : training on a 299450 raw words (164060 effective words) took 0.3s, 579607 effective words/s\n",
      "2019-10-07 18:51:29,422 : WARNING : under 10 jobs per worker: consider setting a smaller `batch_words' for smoother alpha decay\n"
     ]
    }
   ],
   "source": [
    "# default value of workers=3 (tutorial says 1...)\n",
    "model = gensim.models.Word2Vec(list_sentlist, workers=4)"
   ]
  },
  {
   "cell_type": "markdown",
   "metadata": {},
   "source": [
    "## Using the model\n",
    "Word2Vec supports several word similarity tasks out of the box:"
   ]
  },
  {
   "cell_type": "code",
   "execution_count": 61,
   "metadata": {
    "scrolled": true
   },
   "outputs": [
    {
     "ename": "KeyError",
     "evalue": "\"word 'write' not in vocabulary\"",
     "output_type": "error",
     "traceback": [
      "\u001b[1;31m---------------------------------------------------------------------------\u001b[0m",
      "\u001b[1;31mKeyError\u001b[0m                                  Traceback (most recent call last)",
      "\u001b[1;32m<ipython-input-61-cdf306e13bcf>\u001b[0m in \u001b[0;36m<module>\u001b[1;34m\u001b[0m\n\u001b[1;32m----> 1\u001b[1;33m \u001b[0mmodel\u001b[0m\u001b[1;33m.\u001b[0m\u001b[0mwv\u001b[0m\u001b[1;33m.\u001b[0m\u001b[0mmost_similar\u001b[0m\u001b[1;33m(\u001b[0m\u001b[0mpositive\u001b[0m\u001b[1;33m=\u001b[0m\u001b[1;33m[\u001b[0m\u001b[1;34m'read'\u001b[0m\u001b[1;33m]\u001b[0m\u001b[1;33m,\u001b[0m \u001b[0mnegative\u001b[0m\u001b[1;33m=\u001b[0m\u001b[1;33m[\u001b[0m\u001b[1;34m'write'\u001b[0m\u001b[1;33m]\u001b[0m\u001b[1;33m,\u001b[0m \u001b[0mtopn\u001b[0m\u001b[1;33m=\u001b[0m\u001b[1;36m1\u001b[0m\u001b[1;33m)\u001b[0m\u001b[1;33m\u001b[0m\u001b[1;33m\u001b[0m\u001b[0m\n\u001b[0m",
      "\u001b[1;32mC:\\ProgramData\\Anaconda3\\lib\\site-packages\\gensim\\models\\keyedvectors.py\u001b[0m in \u001b[0;36mmost_similar\u001b[1;34m(self, positive, negative, topn, restrict_vocab, indexer)\u001b[0m\n\u001b[0;32m    551\u001b[0m                 \u001b[0mmean\u001b[0m\u001b[1;33m.\u001b[0m\u001b[0mappend\u001b[0m\u001b[1;33m(\u001b[0m\u001b[0mweight\u001b[0m \u001b[1;33m*\u001b[0m \u001b[0mword\u001b[0m\u001b[1;33m)\u001b[0m\u001b[1;33m\u001b[0m\u001b[1;33m\u001b[0m\u001b[0m\n\u001b[0;32m    552\u001b[0m             \u001b[1;32melse\u001b[0m\u001b[1;33m:\u001b[0m\u001b[1;33m\u001b[0m\u001b[1;33m\u001b[0m\u001b[0m\n\u001b[1;32m--> 553\u001b[1;33m                 \u001b[0mmean\u001b[0m\u001b[1;33m.\u001b[0m\u001b[0mappend\u001b[0m\u001b[1;33m(\u001b[0m\u001b[0mweight\u001b[0m \u001b[1;33m*\u001b[0m \u001b[0mself\u001b[0m\u001b[1;33m.\u001b[0m\u001b[0mword_vec\u001b[0m\u001b[1;33m(\u001b[0m\u001b[0mword\u001b[0m\u001b[1;33m,\u001b[0m \u001b[0muse_norm\u001b[0m\u001b[1;33m=\u001b[0m\u001b[1;32mTrue\u001b[0m\u001b[1;33m)\u001b[0m\u001b[1;33m)\u001b[0m\u001b[1;33m\u001b[0m\u001b[1;33m\u001b[0m\u001b[0m\n\u001b[0m\u001b[0;32m    554\u001b[0m                 \u001b[1;32mif\u001b[0m \u001b[0mword\u001b[0m \u001b[1;32min\u001b[0m \u001b[0mself\u001b[0m\u001b[1;33m.\u001b[0m\u001b[0mvocab\u001b[0m\u001b[1;33m:\u001b[0m\u001b[1;33m\u001b[0m\u001b[1;33m\u001b[0m\u001b[0m\n\u001b[0;32m    555\u001b[0m                     \u001b[0mall_words\u001b[0m\u001b[1;33m.\u001b[0m\u001b[0madd\u001b[0m\u001b[1;33m(\u001b[0m\u001b[0mself\u001b[0m\u001b[1;33m.\u001b[0m\u001b[0mvocab\u001b[0m\u001b[1;33m[\u001b[0m\u001b[0mword\u001b[0m\u001b[1;33m]\u001b[0m\u001b[1;33m.\u001b[0m\u001b[0mindex\u001b[0m\u001b[1;33m)\u001b[0m\u001b[1;33m\u001b[0m\u001b[1;33m\u001b[0m\u001b[0m\n",
      "\u001b[1;32mC:\\ProgramData\\Anaconda3\\lib\\site-packages\\gensim\\models\\keyedvectors.py\u001b[0m in \u001b[0;36mword_vec\u001b[1;34m(self, word, use_norm)\u001b[0m\n\u001b[0;32m    466\u001b[0m             \u001b[1;32mreturn\u001b[0m \u001b[0mresult\u001b[0m\u001b[1;33m\u001b[0m\u001b[1;33m\u001b[0m\u001b[0m\n\u001b[0;32m    467\u001b[0m         \u001b[1;32melse\u001b[0m\u001b[1;33m:\u001b[0m\u001b[1;33m\u001b[0m\u001b[1;33m\u001b[0m\u001b[0m\n\u001b[1;32m--> 468\u001b[1;33m             \u001b[1;32mraise\u001b[0m \u001b[0mKeyError\u001b[0m\u001b[1;33m(\u001b[0m\u001b[1;34m\"word '%s' not in vocabulary\"\u001b[0m \u001b[1;33m%\u001b[0m \u001b[0mword\u001b[0m\u001b[1;33m)\u001b[0m\u001b[1;33m\u001b[0m\u001b[1;33m\u001b[0m\u001b[0m\n\u001b[0m\u001b[0;32m    469\u001b[0m \u001b[1;33m\u001b[0m\u001b[0m\n\u001b[0;32m    470\u001b[0m     \u001b[1;32mdef\u001b[0m \u001b[0mget_vector\u001b[0m\u001b[1;33m(\u001b[0m\u001b[0mself\u001b[0m\u001b[1;33m,\u001b[0m \u001b[0mword\u001b[0m\u001b[1;33m)\u001b[0m\u001b[1;33m:\u001b[0m\u001b[1;33m\u001b[0m\u001b[1;33m\u001b[0m\u001b[0m\n",
      "\u001b[1;31mKeyError\u001b[0m: \"word 'write' not in vocabulary\""
     ]
    }
   ],
   "source": [
    "model.wv.most_similar(positive=['read'], negative=['write'], topn=1)"
   ]
  },
  {
   "cell_type": "code",
   "execution_count": 54,
   "metadata": {},
   "outputs": [
    {
     "name": "stdout",
     "output_type": "stream",
     "text": [
      "0.9922514\n",
      "0.9976951\n"
     ]
    }
   ],
   "source": [
    "print(model.wv.similarity('read', 'party'))\n",
    "print(model.wv.similarity('seen', 'murder'))"
   ]
  },
  {
   "cell_type": "code",
   "execution_count": 55,
   "metadata": {},
   "outputs": [
    {
     "name": "stdout",
     "output_type": "stream",
     "text": [
      "[('first', 0.0006879926), ('government', 0.0006853297), ('us', 0.00067960547), ('also', 0.00067762344), ('when', 0.0006769003), ('arafat', 0.00067580084), ('wales', 0.00067426875), ('there', 0.0006738335), ('all', 0.0006729461), ('if', 0.00067110173)]\n"
     ]
    }
   ],
   "source": [
    "print(model.predict_output_word(['read', 'seen', 'received']))"
   ]
  },
  {
   "cell_type": "code",
   "execution_count": 56,
   "metadata": {},
   "outputs": [
    {
     "name": "stderr",
     "output_type": "stream",
     "text": [
      "C:\\ProgramData\\Anaconda3\\lib\\site-packages\\ipykernel_launcher.py:1: DeprecationWarning: Call to deprecated `__getitem__` (Method will be removed in 4.0.0, use self.wv.__getitem__() instead).\n",
      "  \"\"\"Entry point for launching an IPython kernel.\n"
     ]
    },
    {
     "data": {
      "text/plain": [
       "array([ 0.01279023,  0.03632816,  0.03516942,  0.00794312,  0.00783985,\n",
       "        0.01547673,  0.04271121,  0.02785933, -0.00074814, -0.07772044,\n",
       "       -0.01446604, -0.01959375, -0.04014302,  0.02537696, -0.00258341,\n",
       "       -0.00754798,  0.03231826, -0.02489292, -0.01045883, -0.0131178 ,\n",
       "        0.02734876, -0.00216641,  0.02051614,  0.01951203, -0.023349  ,\n",
       "        0.00093485, -0.00204796,  0.03475473,  0.02016631, -0.00863217,\n",
       "       -0.00229754, -0.02820375,  0.00020949, -0.00806989,  0.00634657,\n",
       "       -0.03431857,  0.03278439,  0.0082471 , -0.01915531, -0.0187015 ,\n",
       "        0.02205434, -0.01223822, -0.03114535,  0.03396862,  0.01340313,\n",
       "        0.00366304, -0.0053626 ,  0.00701275, -0.00726209, -0.00190935,\n",
       "       -0.03907422,  0.01314985,  0.00981733, -0.02849872, -0.01973668,\n",
       "        0.0120859 ,  0.01522844, -0.03015096,  0.02332699,  0.02463402,\n",
       "        0.00495318, -0.00889076,  0.0001364 , -0.02757069, -0.02030646,\n",
       "        0.04398051, -0.0165002 ,  0.01805867, -0.01477974,  0.04951366,\n",
       "       -0.03682557, -0.00607637, -0.0260153 , -0.00295419,  0.00570257,\n",
       "        0.01988349,  0.00382239,  0.01606526, -0.00738752,  0.04362222,\n",
       "       -0.02447556,  0.02585252,  0.03227663, -0.02312542, -0.05720722,\n",
       "        0.00215803,  0.01061598,  0.03565308, -0.03066585, -0.04426356,\n",
       "        0.00242412, -0.02713366,  0.04073671, -0.03150642, -0.00493614,\n",
       "       -0.04172916,  0.00284936,  0.01370176, -0.0161715 , -0.00738097],\n",
       "      dtype=float32)"
      ]
     },
     "execution_count": 56,
     "metadata": {},
     "output_type": "execute_result"
    }
   ],
   "source": [
    "model['read']  # raw NumPy vector of a word"
   ]
  }
 ],
 "metadata": {
  "kernelspec": {
   "display_name": "Python 3",
   "language": "python",
   "name": "python3"
  },
  "language_info": {
   "codemirror_mode": {
    "name": "ipython",
    "version": 3
   },
   "file_extension": ".py",
   "mimetype": "text/x-python",
   "name": "python",
   "nbconvert_exporter": "python",
   "pygments_lexer": "ipython3",
   "version": "3.7.3"
  },
  "toc": {
   "base_numbering": 1,
   "nav_menu": {},
   "number_sections": true,
   "sideBar": true,
   "skip_h1_title": false,
   "title_cell": "Table of Contents",
   "title_sidebar": "Contents",
   "toc_cell": false,
   "toc_position": {
    "height": "calc(100% - 180px)",
    "left": "10px",
    "top": "150px",
    "width": "255.458px"
   },
   "toc_section_display": true,
   "toc_window_display": true
  }
 },
 "nbformat": 4,
 "nbformat_minor": 2
}
